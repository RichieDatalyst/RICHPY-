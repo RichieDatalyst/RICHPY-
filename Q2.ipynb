{
  "nbformat": 4,
  "nbformat_minor": 0,
  "metadata": {
    "colab": {
      "provenance": []
    },
    "kernelspec": {
      "name": "python3",
      "display_name": "Python 3"
    },
    "language_info": {
      "name": "python"
    }
  },
  "cells": [
    {
      "cell_type": "code",
      "execution_count": null,
      "metadata": {
        "colab": {
          "base_uri": "https://localhost:8080/"
        },
        "id": "Hn_eJbM-vvOw",
        "outputId": "c8682d14-f0b1-48fa-e8ca-5bf00b205521"
      },
      "outputs": [
        {
          "output_type": "stream",
          "name": "stdout",
          "text": [
            "      crim    zn  indus  chas    nox     rm    age     dis  rad  tax  ptratio  \\\n",
            "0  0.00632  18.0   2.31     0  0.538  6.575   65.2  4.0900    1  296     15.3   \n",
            "1  0.02731   0.0   7.07     0  0.469  6.421   78.9  4.9671    2  242     17.8   \n",
            "2  0.02729   0.0   7.07     0  0.469  7.185   61.1  4.9671    2  242     17.8   \n",
            "3  0.03237   0.0   2.18     0  0.458  6.998   45.8  6.0622    3  222     18.7   \n",
            "4  0.06905   0.0   2.18     0  0.458  7.147   54.2  6.0622    3  222     18.7   \n",
            "5  0.02985   0.0   2.18     0  0.458  6.430   58.7  6.0622    3  222     18.7   \n",
            "6  0.08829  12.5   7.87     0  0.524  6.012   66.6  5.5605    5  311     15.2   \n",
            "7  0.14455  12.5   7.87     0  0.524  6.172   96.1  5.9505    5  311     15.2   \n",
            "8  0.21124  12.5   7.87     0  0.524  5.631  100.0  6.0821    5  311     15.2   \n",
            "9  0.17004  12.5   7.87     0  0.524  6.004   85.9  6.5921    5  311     15.2   \n",
            "\n",
            "        b  lstat  medv  \n",
            "0  396.90   4.98  24.0  \n",
            "1  396.90   9.14  21.6  \n",
            "2  392.83   4.03  34.7  \n",
            "3  394.63   2.94  33.4  \n",
            "4  396.90   5.33  36.2  \n",
            "5  394.12   5.21  28.7  \n",
            "6  395.60  12.43  22.9  \n",
            "7  396.90  19.15  27.1  \n",
            "8  386.63  29.93  16.5  \n",
            "9  386.71  17.10  18.9  \n"
          ]
        }
      ],
      "source": [
        "import pandas as pd\n",
        "df = pd.read_csv(\"/content/House Pricing.csv\")\n",
        "print(df[0:10])\n"
      ]
    },
    {
      "cell_type": "code",
      "source": [
        "age = df['age']\n",
        "bins = [2, 30, 60, 100]\n",
        "labels = ['Young', 'Middle-aged', 'Old']\n",
        "df['CATEGORY'] = pd.cut(df['age'], bins=bins, labels=labels)\n",
        "binary_matrix = pd.get_dummies(df['CATEGORY'])\n",
        "print(binary_matrix)\n"
      ],
      "metadata": {
        "colab": {
          "base_uri": "https://localhost:8080/"
        },
        "id": "XRqkHCtcxQxj",
        "outputId": "91b96397-a5e1-4e22-c584-5a9d5a59134b"
      },
      "execution_count": null,
      "outputs": [
        {
          "output_type": "stream",
          "name": "stdout",
          "text": [
            "     Young  Middle-aged  Old\n",
            "0        0            0    1\n",
            "1        0            0    1\n",
            "2        0            0    1\n",
            "3        0            1    0\n",
            "4        0            1    0\n",
            "..     ...          ...  ...\n",
            "501      0            0    1\n",
            "502      0            0    1\n",
            "503      0            0    1\n",
            "504      0            0    1\n",
            "505      0            0    1\n",
            "\n",
            "[506 rows x 3 columns]\n"
          ]
        }
      ]
    },
    {
      "cell_type": "code",
      "source": [
        "df['is_charles_river'] = df['chas'].apply(lambda x: 1 if x == 1 else 0)\n",
        "print(df)"
      ],
      "metadata": {
        "colab": {
          "base_uri": "https://localhost:8080/"
        },
        "id": "4Ah5yDl3SAY5",
        "outputId": "ba38d625-7ec2-44ac-e9db-76d80167f020"
      },
      "execution_count": null,
      "outputs": [
        {
          "output_type": "stream",
          "name": "stdout",
          "text": [
            "        crim    zn  indus  chas    nox     rm   age     dis  rad  tax  \\\n",
            "0    0.00632  18.0   2.31     0  0.538  6.575  65.2  4.0900    1  296   \n",
            "1    0.02731   0.0   7.07     0  0.469  6.421  78.9  4.9671    2  242   \n",
            "2    0.02729   0.0   7.07     0  0.469  7.185  61.1  4.9671    2  242   \n",
            "3    0.03237   0.0   2.18     0  0.458  6.998  45.8  6.0622    3  222   \n",
            "4    0.06905   0.0   2.18     0  0.458  7.147  54.2  6.0622    3  222   \n",
            "..       ...   ...    ...   ...    ...    ...   ...     ...  ...  ...   \n",
            "501  0.06263   0.0  11.93     0  0.573  6.593  69.1  2.4786    1  273   \n",
            "502  0.04527   0.0  11.93     0  0.573  6.120  76.7  2.2875    1  273   \n",
            "503  0.06076   0.0  11.93     0  0.573  6.976  91.0  2.1675    1  273   \n",
            "504  0.10959   0.0  11.93     0  0.573  6.794  89.3  2.3889    1  273   \n",
            "505  0.04741   0.0  11.93     0  0.573  6.030  80.8  2.5050    1  273   \n",
            "\n",
            "     ptratio       b  lstat  medv     CATEGORY  is_charles_river  \n",
            "0       15.3  396.90   4.98  24.0          Old                 0  \n",
            "1       17.8  396.90   9.14  21.6          Old                 0  \n",
            "2       17.8  392.83   4.03  34.7          Old                 0  \n",
            "3       18.7  394.63   2.94  33.4  Middle-aged                 0  \n",
            "4       18.7  396.90   5.33  36.2  Middle-aged                 0  \n",
            "..       ...     ...    ...   ...          ...               ...  \n",
            "501     21.0  391.99   9.67  22.4          Old                 0  \n",
            "502     21.0  396.90   9.08  20.6          Old                 0  \n",
            "503     21.0  396.90   5.64  23.9          Old                 0  \n",
            "504     21.0  393.45   6.48  22.0          Old                 0  \n",
            "505     21.0  396.90   7.88  11.9          Old                 0  \n",
            "\n",
            "[506 rows x 16 columns]\n"
          ]
        }
      ]
    },
    {
      "cell_type": "markdown",
      "source": [
        "**Detecting Outliers**"
      ],
      "metadata": {
        "id": "SH0nipwPh0wS"
      }
    },
    {
      "cell_type": "code",
      "source": [
        "Q1 = df['crim'].quantile(0.25)\n",
        "Q3 = df['crim'].quantile(0.75)\n",
        "\n",
        "IQR = Q3 - Q1\n",
        "\n",
        "lower_bound = Q1 - 1.5 * IQR\n",
        "upper_bound = Q3 + 1.5 * IQR\n",
        "\n",
        "outliers = df[(df['crim'] < lower_bound) | (df['crim'] > upper_bound)]\n",
        "\n",
        "print(outliers)\n",
        "\n",
        "\n",
        "\n",
        "\n",
        "\n",
        "\n"
      ],
      "metadata": {
        "colab": {
          "base_uri": "https://localhost:8080/"
        },
        "id": "daO45rI-XViG",
        "outputId": "6fd569bb-9443-4806-f1dc-a7f46371a6bb"
      },
      "execution_count": null,
      "outputs": [
        {
          "output_type": "stream",
          "name": "stdout",
          "text": [
            "        crim   zn  indus  chas    nox     rm    age     dis  rad  tax  \\\n",
            "367  13.5222  0.0   18.1     0  0.631  3.863  100.0  1.5106   24  666   \n",
            "371   9.2323  0.0   18.1     0  0.631  6.216  100.0  1.1691   24  666   \n",
            "373  11.1081  0.0   18.1     0  0.668  4.906  100.0  1.1742   24  666   \n",
            "374  18.4982  0.0   18.1     0  0.668  4.138  100.0  1.1370   24  666   \n",
            "375  19.6091  0.0   18.1     0  0.671  7.313   97.9  1.3163   24  666   \n",
            "..       ...  ...    ...   ...    ...    ...    ...     ...  ...  ...   \n",
            "468  15.5757  0.0   18.1     0  0.580  5.926   71.0  2.9084   24  666   \n",
            "469  13.0751  0.0   18.1     0  0.580  5.713   56.7  2.8237   24  666   \n",
            "477  15.0234  0.0   18.1     0  0.614  5.304   97.3  2.1007   24  666   \n",
            "478  10.2330  0.0   18.1     0  0.614  6.185   96.7  2.1705   24  666   \n",
            "479  14.3337  0.0   18.1     0  0.614  6.229   88.0  1.9512   24  666   \n",
            "\n",
            "     ptratio       b  lstat  medv     CATEGORY  is_charles_river  \n",
            "367     20.2  131.42  13.33  23.1          Old                 0  \n",
            "371     20.2  366.15   9.53  50.0          Old                 0  \n",
            "373     20.2  396.90  34.77  13.8          Old                 0  \n",
            "374     20.2  396.90  37.97  13.8          Old                 0  \n",
            "375     20.2  396.90  13.44  15.0          Old                 0  \n",
            "..       ...     ...    ...   ...          ...               ...  \n",
            "468     20.2  368.74  18.13  19.1          Old                 0  \n",
            "469     20.2  396.90  14.76  20.1  Middle-aged                 0  \n",
            "477     20.2  349.48  24.91  12.0          Old                 0  \n",
            "478     20.2  379.70  18.03  14.6          Old                 0  \n",
            "479     20.2  383.32  13.11  21.4          Old                 0  \n",
            "\n",
            "[66 rows x 16 columns]\n"
          ]
        }
      ]
    },
    {
      "cell_type": "code",
      "source": [
        "Q1 = df['zn'].quantile(0.25)\n",
        "Q3 = df['zn'].quantile(0.75)\n",
        "\n",
        "IQR = Q3 - Q1\n",
        "\n",
        "lower_bound = Q1 - 1.5 * IQR\n",
        "upper_bound = Q3 + 1.5 * IQR\n",
        "\n",
        "outliers = df[(df['zn'] < lower_bound) | (df['zn'] > upper_bound)]\n",
        "\n",
        "print(outliers)\n",
        "\n",
        "\n",
        "\n",
        "\n",
        "\n",
        "\n"
      ],
      "metadata": {
        "colab": {
          "base_uri": "https://localhost:8080/"
        },
        "id": "oS1msESFfTxy",
        "outputId": "703542c1-cc8a-44d3-c8ee-32611535b0ad"
      },
      "execution_count": null,
      "outputs": [
        {
          "output_type": "stream",
          "name": "stdout",
          "text": [
            "        crim    zn  indus  chas    nox     rm   age      dis  rad  tax  \\\n",
            "39   0.02763  75.0   2.95     0  0.428  6.595  21.8   5.4011    3  252   \n",
            "40   0.03359  75.0   2.95     0  0.428  7.024  15.8   5.4011    3  252   \n",
            "54   0.01360  75.0   4.00     0  0.410  5.888  47.6   7.3197    3  469   \n",
            "55   0.01311  90.0   1.22     0  0.403  7.249  21.9   8.6966    5  226   \n",
            "56   0.02055  85.0   0.74     0  0.410  6.383  35.7   9.1876    2  313   \n",
            "..       ...   ...    ...   ...    ...    ...   ...      ...  ...  ...   \n",
            "351  0.07950  60.0   1.69     0  0.411  6.579  35.9  10.7103    4  411   \n",
            "352  0.07244  60.0   1.69     0  0.411  5.884  18.5  10.7103    4  411   \n",
            "353  0.01709  90.0   2.02     0  0.410  6.728  36.1  12.1265    5  187   \n",
            "354  0.04301  80.0   1.91     0  0.413  5.663  21.9  10.5857    4  334   \n",
            "355  0.10659  80.0   1.91     0  0.413  5.936  19.5  10.5857    4  334   \n",
            "\n",
            "     ptratio       b  lstat  medv     CATEGORY  is_charles_river  \n",
            "39      18.3  395.63   4.32  30.8        Young                 0  \n",
            "40      18.3  395.62   1.98  34.9        Young                 0  \n",
            "54      21.1  396.90  14.80  18.9  Middle-aged                 0  \n",
            "55      17.9  395.93   4.81  35.4        Young                 0  \n",
            "56      17.3  396.90   5.77  24.7  Middle-aged                 0  \n",
            "..       ...     ...    ...   ...          ...               ...  \n",
            "351     18.3  370.78   5.49  24.1  Middle-aged                 0  \n",
            "352     18.3  392.33   7.79  18.6        Young                 0  \n",
            "353     17.0  384.46   4.50  30.1  Middle-aged                 0  \n",
            "354     22.0  382.80   8.05  18.2        Young                 0  \n",
            "355     22.0  376.04   5.57  20.6        Young                 0  \n",
            "\n",
            "[68 rows x 16 columns]\n"
          ]
        }
      ]
    },
    {
      "cell_type": "code",
      "source": [
        "Q1 = df['indus'].quantile(0.25)\n",
        "Q3 = df['indus'].quantile(0.75)\n",
        "\n",
        "IQR = Q3 - Q1\n",
        "\n",
        "lower_bound = Q1 - 1.5 * IQR\n",
        "upper_bound = Q3 + 1.5 * IQR\n",
        "\n",
        "outliers = df[(df['indus'] < lower_bound) | (df['indus'] > upper_bound)]\n",
        "\n",
        "print(outliers)\n",
        "\n",
        "\n",
        "\n",
        "\n",
        "\n",
        "\n"
      ],
      "metadata": {
        "colab": {
          "base_uri": "https://localhost:8080/"
        },
        "id": "mW_2faXqfUN2",
        "outputId": "1260c1d6-d73f-44e3-9a37-a74760f82ed9"
      },
      "execution_count": null,
      "outputs": [
        {
          "output_type": "stream",
          "name": "stdout",
          "text": [
            "Empty DataFrame\n",
            "Columns: [crim, zn, indus, chas, nox, rm, age, dis, rad, tax, ptratio, b, lstat, medv, CATEGORY, is_charles_river]\n",
            "Index: []\n"
          ]
        }
      ]
    },
    {
      "cell_type": "code",
      "source": [
        "Q1 = df['chas'].quantile(0.25)\n",
        "Q3 = df['chas'].quantile(0.75)\n",
        "\n",
        "IQR = Q3 - Q1\n",
        "\n",
        "lower_bound = Q1 - 1.5 * IQR\n",
        "upper_bound = Q3 + 1.5 * IQR\n",
        "\n",
        "outliers = df[(df['chas'] < lower_bound) | (df['chas'] > upper_bound)]\n",
        "\n",
        "print(outliers)\n",
        "\n",
        "\n",
        "\n",
        "\n",
        "\n",
        "\n"
      ],
      "metadata": {
        "colab": {
          "base_uri": "https://localhost:8080/"
        },
        "id": "X8myLvjFfUaS",
        "outputId": "6a16e1ec-a8f8-4ed4-83da-ddb10e2ecbca"
      },
      "execution_count": null,
      "outputs": [
        {
          "output_type": "stream",
          "name": "stdout",
          "text": [
            "        crim    zn  indus  chas     nox     rm    age     dis  rad  tax  \\\n",
            "142  3.32105   0.0  19.58     1  0.8710  5.403  100.0  1.3216    5  403   \n",
            "152  1.12658   0.0  19.58     1  0.8710  5.012   88.0  1.6102    5  403   \n",
            "154  1.41385   0.0  19.58     1  0.8710  6.129   96.0  1.7494    5  403   \n",
            "155  3.53501   0.0  19.58     1  0.8710  6.152   82.6  1.7455    5  403   \n",
            "160  1.27346   0.0  19.58     1  0.6050  6.250   92.6  1.7984    5  403   \n",
            "162  1.83377   0.0  19.58     1  0.6050  7.802   98.2  2.0407    5  403   \n",
            "163  1.51902   0.0  19.58     1  0.6050  8.375   93.9  2.1620    5  403   \n",
            "208  0.13587   0.0  10.59     1  0.4890  6.064   59.1  4.2392    4  277   \n",
            "209  0.43571   0.0  10.59     1  0.4890  5.344  100.0  3.8750    4  277   \n",
            "210  0.17446   0.0  10.59     1  0.4890  5.960   92.1  3.8771    4  277   \n",
            "211  0.37578   0.0  10.59     1  0.4890  5.404   88.6  3.6650    4  277   \n",
            "212  0.21719   0.0  10.59     1  0.4890  5.807   53.8  3.6526    4  277   \n",
            "216  0.04560   0.0  13.89     1  0.5500  5.888   56.0  3.1121    5  276   \n",
            "218  0.11069   0.0  13.89     1  0.5500  5.951   93.8  2.8893    5  276   \n",
            "219  0.11425   0.0  13.89     1  0.5500  6.373   92.4  3.3633    5  276   \n",
            "220  0.35809   0.0   6.20     1  0.5070  6.951   88.5  2.8617    8  307   \n",
            "221  0.40771   0.0   6.20     1  0.5070  6.164   91.3  3.0480    8  307   \n",
            "222  0.62356   0.0   6.20     1  0.5070  6.879   77.7  3.2721    8  307   \n",
            "234  0.44791   0.0   6.20     1  0.5070  6.726   66.5  3.6519    8  307   \n",
            "236  0.52058   0.0   6.20     1  0.5070  6.631   76.5  4.1480    8  307   \n",
            "269  0.09065  20.0   6.96     1  0.4640  5.920   61.5  3.9175    3  223   \n",
            "273  0.22188  20.0   6.96     1  0.4640  7.691   51.8  4.3665    3  223   \n",
            "274  0.05644  40.0   6.41     1  0.4470  6.758   32.9  4.0776    4  254   \n",
            "276  0.10469  40.0   6.41     1  0.4470  7.267   49.0  4.7872    4  254   \n",
            "277  0.06127  40.0   6.41     1  0.4470  6.826   27.6  4.8628    4  254   \n",
            "282  0.06129  20.0   3.33     1  0.4429  7.645   49.7  5.2119    5  216   \n",
            "283  0.01501  90.0   1.21     1  0.4010  7.923   24.8  5.8850    1  198   \n",
            "356  8.98296   0.0  18.10     1  0.7700  6.212   97.4  2.1222   24  666   \n",
            "357  3.84970   0.0  18.10     1  0.7700  6.395   91.0  2.5052   24  666   \n",
            "358  5.20177   0.0  18.10     1  0.7700  6.127   83.4  2.7227   24  666   \n",
            "363  4.22239   0.0  18.10     1  0.7700  5.803   89.0  1.9047   24  666   \n",
            "364  3.47428   0.0  18.10     1  0.7180  8.780   82.9  1.9047   24  666   \n",
            "369  5.66998   0.0  18.10     1  0.6310  6.683   96.8  1.3567   24  666   \n",
            "370  6.53876   0.0  18.10     1  0.6310  7.016   97.5  1.2024   24  666   \n",
            "372  8.26725   0.0  18.10     1  0.6680  5.875   89.6  1.1296   24  666   \n",
            "\n",
            "     ptratio       b  lstat  medv     CATEGORY  is_charles_river  \n",
            "142     14.7  396.90  26.82  13.4          Old                 1  \n",
            "152     14.7  343.28  12.12  15.3          Old                 1  \n",
            "154     14.7  321.02  15.12  17.0          Old                 1  \n",
            "155     14.7   88.01  15.02  15.6          Old                 1  \n",
            "160     14.7  338.92   5.50  27.0          Old                 1  \n",
            "162     14.7  389.61   1.92  50.0          Old                 1  \n",
            "163     14.7  388.45   3.32  50.0          Old                 1  \n",
            "208     18.6  381.32  14.66  24.4  Middle-aged                 1  \n",
            "209     18.6  396.90  23.09  20.0          Old                 1  \n",
            "210     18.6  393.25  17.27  21.7          Old                 1  \n",
            "211     18.6  395.24  23.98  19.3          Old                 1  \n",
            "212     18.6  390.94  16.03  22.4  Middle-aged                 1  \n",
            "216     16.4  392.80  13.51  23.3  Middle-aged                 1  \n",
            "218     16.4  396.90  17.92  21.5          Old                 1  \n",
            "219     16.4  393.74  10.50  23.0          Old                 1  \n",
            "220     17.4  391.70   9.71  26.7          Old                 1  \n",
            "221     17.4  395.24  21.46  21.7          Old                 1  \n",
            "222     17.4  390.39   9.93  27.5          Old                 1  \n",
            "234     17.4  360.20   8.05  29.0          Old                 1  \n",
            "236     17.4  388.45   9.54  25.1          Old                 1  \n",
            "269     18.6  391.34  13.65  20.7          Old                 1  \n",
            "273     18.6  390.77   6.58  35.2  Middle-aged                 1  \n",
            "274     17.6  396.90   3.53  32.4  Middle-aged                 1  \n",
            "276     17.6  389.25   6.05  33.2  Middle-aged                 1  \n",
            "277     17.6  393.45   4.16  33.1        Young                 1  \n",
            "282     14.9  377.07   3.01  46.0  Middle-aged                 1  \n",
            "283     13.6  395.52   3.16  50.0        Young                 1  \n",
            "356     20.2  377.73  17.60  17.8          Old                 1  \n",
            "357     20.2  391.34  13.27  21.7          Old                 1  \n",
            "358     20.2  395.43  11.48  22.7          Old                 1  \n",
            "363     20.2  353.04  14.64  16.8          Old                 1  \n",
            "364     20.2  354.55   5.29  21.9          Old                 1  \n",
            "369     20.2  375.33   3.73  50.0          Old                 1  \n",
            "370     20.2  392.05   2.96  50.0          Old                 1  \n",
            "372     20.2  347.88   8.88  50.0          Old                 1  \n"
          ]
        }
      ]
    },
    {
      "cell_type": "code",
      "source": [
        "Q1 = df['nox'].quantile(0.25)\n",
        "Q3 = df['nox'].quantile(0.75)\n",
        "\n",
        "IQR = Q3 - Q1\n",
        "\n",
        "lower_bound = Q1 - 1.5 * IQR\n",
        "upper_bound = Q3 + 1.5 * IQR\n",
        "\n",
        "outliers = df[(df['nox'] < lower_bound) | (df['nox'] > upper_bound)]\n",
        "\n",
        "print(outliers)\n",
        "\n",
        "\n",
        "\n",
        "\n",
        "\n",
        "\n"
      ],
      "metadata": {
        "colab": {
          "base_uri": "https://localhost:8080/"
        },
        "id": "H0V8bPHIfUqc",
        "outputId": "a4209a43-aa20-4b6d-b247-9c0d762c3982"
      },
      "execution_count": null,
      "outputs": [
        {
          "output_type": "stream",
          "name": "stdout",
          "text": [
            "Empty DataFrame\n",
            "Columns: [crim, zn, indus, chas, nox, rm, age, dis, rad, tax, ptratio, b, lstat, medv, CATEGORY, is_charles_river]\n",
            "Index: []\n"
          ]
        }
      ]
    },
    {
      "cell_type": "code",
      "source": [
        "Q1 = df['rm'].quantile(0.25)\n",
        "Q3 = df['rm'].quantile(0.75)\n",
        "\n",
        "IQR = Q3 - Q1\n",
        "\n",
        "lower_bound = Q1 - 1.5 * IQR\n",
        "upper_bound = Q3 + 1.5 * IQR\n",
        "\n",
        "outliers = df[(df['rm'] < lower_bound) | (df['rm'] > upper_bound)]\n",
        "\n",
        "print(outliers)\n",
        "\n",
        "\n",
        "\n",
        "\n",
        "\n",
        "\n"
      ],
      "metadata": {
        "colab": {
          "base_uri": "https://localhost:8080/"
        },
        "id": "6kGsh7vhfoW7",
        "outputId": "a8745033-6377-4c9f-9397-e30a87d0c8cb"
      },
      "execution_count": null,
      "outputs": [
        {
          "output_type": "stream",
          "name": "stdout",
          "text": [
            "         crim    zn  indus  chas     nox     rm    age     dis  rad  tax  \\\n",
            "97    0.12083   0.0   2.89     0  0.4450  8.069   76.0  3.4952    2  276   \n",
            "98    0.08187   0.0   2.89     0  0.4450  7.820   36.9  3.4952    2  276   \n",
            "162   1.83377   0.0  19.58     1  0.6050  7.802   98.2  2.0407    5  403   \n",
            "163   1.51902   0.0  19.58     1  0.6050  8.375   93.9  2.1620    5  403   \n",
            "166   2.01019   0.0  19.58     0  0.6050  7.929   96.2  2.0459    5  403   \n",
            "180   0.06588   0.0   2.46     0  0.4880  7.765   83.3  2.7410    3  193   \n",
            "186   0.05602   0.0   2.46     0  0.4880  7.831   53.6  3.1992    3  193   \n",
            "195   0.01381  80.0   0.46     0  0.4220  7.875   32.0  5.6484    4  255   \n",
            "203   0.03510  95.0   2.68     0  0.4161  7.853   33.2  5.1180    4  224   \n",
            "204   0.02009  95.0   2.68     0  0.4161  8.034   31.9  5.1180    4  224   \n",
            "224   0.31533   0.0   6.20     0  0.5040  8.266   78.3  2.8944    8  307   \n",
            "225   0.52693   0.0   6.20     0  0.5040  8.725   83.0  2.8944    8  307   \n",
            "226   0.38214   0.0   6.20     0  0.5040  8.040   86.5  3.2157    8  307   \n",
            "232   0.57529   0.0   6.20     0  0.5070  8.337   73.3  3.8384    8  307   \n",
            "233   0.33147   0.0   6.20     0  0.5070  8.247   70.4  3.6519    8  307   \n",
            "253   0.36894  22.0   5.86     0  0.4310  8.259    8.4  8.9067    7  330   \n",
            "257   0.61154  20.0   3.97     0  0.6470  8.704   86.9  1.8010    5  264   \n",
            "262   0.52014  20.0   3.97     0  0.6470  8.398   91.5  2.2885    5  264   \n",
            "267   0.57834  20.0   3.97     0  0.5750  8.297   67.0  2.4216    5  264   \n",
            "280   0.03578  20.0   3.33     0  0.4429  7.820   64.5  4.6947    5  216   \n",
            "283   0.01501  90.0   1.21     1  0.4010  7.923   24.8  5.8850    1  198   \n",
            "364   3.47428   0.0  18.10     1  0.7180  8.780   82.9  1.9047   24  666   \n",
            "365   4.55587   0.0  18.10     0  0.7180  3.561   87.9  1.6132   24  666   \n",
            "367  13.52220   0.0  18.10     0  0.6310  3.863  100.0  1.5106   24  666   \n",
            "374  18.49820   0.0  18.10     0  0.6680  4.138  100.0  1.1370   24  666   \n",
            "384  20.08490   0.0  18.10     0  0.7000  4.368   91.2  1.4395   24  666   \n",
            "386  24.39380   0.0  18.10     0  0.7000  4.652  100.0  1.4672   24  666   \n",
            "406  20.71620   0.0  18.10     0  0.6590  4.138  100.0  1.1781   24  666   \n",
            "412  18.81100   0.0  18.10     0  0.5970  4.628  100.0  1.5539   24  666   \n",
            "414  45.74610   0.0  18.10     0  0.6930  4.519  100.0  1.6582   24  666   \n",
            "\n",
            "     ptratio       b  lstat  medv     CATEGORY  is_charles_river  \n",
            "97      18.0  396.90   4.21  38.7          Old                 0  \n",
            "98      18.0  393.53   3.57  43.8  Middle-aged                 0  \n",
            "162     14.7  389.61   1.92  50.0          Old                 1  \n",
            "163     14.7  388.45   3.32  50.0          Old                 1  \n",
            "166     14.7  369.30   3.70  50.0          Old                 0  \n",
            "180     17.8  395.56   7.56  39.8          Old                 0  \n",
            "186     17.8  392.63   4.45  50.0  Middle-aged                 0  \n",
            "195     14.4  394.23   2.97  50.0  Middle-aged                 0  \n",
            "203     14.7  392.78   3.81  48.5  Middle-aged                 0  \n",
            "204     14.7  390.55   2.88  50.0  Middle-aged                 0  \n",
            "224     17.4  385.05   4.14  44.8          Old                 0  \n",
            "225     17.4  382.00   4.63  50.0          Old                 0  \n",
            "226     17.4  387.38   3.13  37.6          Old                 0  \n",
            "232     17.4  385.91   2.47  41.7          Old                 0  \n",
            "233     17.4  378.95   3.95  48.3          Old                 0  \n",
            "253     19.1  396.90   3.54  42.8        Young                 0  \n",
            "257     13.0  389.70   5.12  50.0          Old                 0  \n",
            "262     13.0  386.86   5.91  48.8          Old                 0  \n",
            "267     13.0  384.54   7.44  50.0          Old                 0  \n",
            "280     14.9  387.31   3.76  45.4          Old                 0  \n",
            "283     13.6  395.52   3.16  50.0        Young                 1  \n",
            "364     20.2  354.55   5.29  21.9          Old                 1  \n",
            "365     20.2  354.70   7.12  27.5          Old                 0  \n",
            "367     20.2  131.42  13.33  23.1          Old                 0  \n",
            "374     20.2  396.90  37.97  13.8          Old                 0  \n",
            "384     20.2  285.83  30.63   8.8          Old                 0  \n",
            "386     20.2  396.90  28.28  10.5          Old                 0  \n",
            "406     20.2  370.22  23.34  11.9          Old                 0  \n",
            "412     20.2   28.79  34.37  17.9          Old                 0  \n",
            "414     20.2   88.27  36.98   7.0          Old                 0  \n"
          ]
        }
      ]
    },
    {
      "cell_type": "code",
      "source": [
        "Q1 = df['age'].quantile(0.25)\n",
        "Q3 = df['age'].quantile(0.75)\n",
        "\n",
        "IQR = Q3 - Q1\n",
        "\n",
        "lower_bound = Q1 - 1.5 * IQR\n",
        "upper_bound = Q3 + 1.5 * IQR\n",
        "\n",
        "outliers = df[(df['age'] < lower_bound) | (df['age'] > upper_bound)]\n",
        "\n",
        "print(outliers)\n",
        "\n",
        "\n",
        "\n",
        "\n",
        "\n",
        "\n"
      ],
      "metadata": {
        "colab": {
          "base_uri": "https://localhost:8080/"
        },
        "id": "BRNUpIT7fome",
        "outputId": "3f40de5c-f8b5-4b86-ec54-78fcd7ed4d6e"
      },
      "execution_count": null,
      "outputs": [
        {
          "output_type": "stream",
          "name": "stdout",
          "text": [
            "Empty DataFrame\n",
            "Columns: [crim, zn, indus, chas, nox, rm, age, dis, rad, tax, ptratio, b, lstat, medv, CATEGORY, is_charles_river]\n",
            "Index: []\n"
          ]
        }
      ]
    },
    {
      "cell_type": "code",
      "source": [
        "Q1 = df['dis'].quantile(0.25)\n",
        "Q3 = df['dis'].quantile(0.75)\n",
        "\n",
        "IQR = Q3 - Q1\n",
        "\n",
        "lower_bound = Q1 - 1.5 * IQR\n",
        "upper_bound = Q3 + 1.5 * IQR\n",
        "\n",
        "outliers = df[(df['dis'] < lower_bound) | (df['dis'] > upper_bound)]\n",
        "\n",
        "print(outliers)\n",
        "\n",
        "\n",
        "\n",
        "\n",
        "\n",
        "\n"
      ],
      "metadata": {
        "colab": {
          "base_uri": "https://localhost:8080/"
        },
        "id": "RQiwRhGvfozh",
        "outputId": "8315e037-3656-446b-b3b5-8eb43447cfe6"
      },
      "execution_count": null,
      "outputs": [
        {
          "output_type": "stream",
          "name": "stdout",
          "text": [
            "        crim    zn  indus  chas    nox     rm   age      dis  rad  tax  \\\n",
            "351  0.07950  60.0   1.69     0  0.411  6.579  35.9  10.7103    4  411   \n",
            "352  0.07244  60.0   1.69     0  0.411  5.884  18.5  10.7103    4  411   \n",
            "353  0.01709  90.0   2.02     0  0.410  6.728  36.1  12.1265    5  187   \n",
            "354  0.04301  80.0   1.91     0  0.413  5.663  21.9  10.5857    4  334   \n",
            "355  0.10659  80.0   1.91     0  0.413  5.936  19.5  10.5857    4  334   \n",
            "\n",
            "     ptratio       b  lstat  medv     CATEGORY  is_charles_river  \n",
            "351     18.3  370.78   5.49  24.1  Middle-aged                 0  \n",
            "352     18.3  392.33   7.79  18.6        Young                 0  \n",
            "353     17.0  384.46   4.50  30.1  Middle-aged                 0  \n",
            "354     22.0  382.80   8.05  18.2        Young                 0  \n",
            "355     22.0  376.04   5.57  20.6        Young                 0  \n"
          ]
        }
      ]
    },
    {
      "cell_type": "code",
      "source": [
        "Q1 = df['rad'].quantile(0.25)\n",
        "Q3 = df['rad'].quantile(0.75)\n",
        "\n",
        "IQR = Q3 - Q1\n",
        "\n",
        "lower_bound = Q1 - 1.5 * IQR\n",
        "upper_bound = Q3 + 1.5 * IQR\n",
        "\n",
        "outliers = df[(df['rad'] < lower_bound) | (df['rad'] > upper_bound)]\n",
        "\n",
        "print(outliers)\n",
        "\n",
        "\n",
        "\n",
        "\n",
        "\n",
        "\n"
      ],
      "metadata": {
        "colab": {
          "base_uri": "https://localhost:8080/"
        },
        "id": "NV0bNTLMfo_M",
        "outputId": "de881d1f-37c1-46d4-98ab-cb696b9cfcd4"
      },
      "execution_count": null,
      "outputs": [
        {
          "output_type": "stream",
          "name": "stdout",
          "text": [
            "Empty DataFrame\n",
            "Columns: [crim, zn, indus, chas, nox, rm, age, dis, rad, tax, ptratio, b, lstat, medv, CATEGORY, is_charles_river]\n",
            "Index: []\n"
          ]
        }
      ]
    },
    {
      "cell_type": "code",
      "source": [
        "Q1 = df['tax'].quantile(0.25)\n",
        "Q3 = df['tax'].quantile(0.75)\n",
        "\n",
        "IQR = Q3 - Q1\n",
        "\n",
        "lower_bound = Q1 - 1.5 * IQR\n",
        "upper_bound = Q3 + 1.5 * IQR\n",
        "\n",
        "outliers = df[(df['tax'] < lower_bound) | (df['tax'] > upper_bound)]\n",
        "\n",
        "print(outliers)\n",
        "\n",
        "\n",
        "\n",
        "\n",
        "\n",
        "\n"
      ],
      "metadata": {
        "colab": {
          "base_uri": "https://localhost:8080/"
        },
        "id": "Za87mWPAfpKn",
        "outputId": "855439f6-82ea-41b0-ca94-dbe43eac8c73"
      },
      "execution_count": null,
      "outputs": [
        {
          "output_type": "stream",
          "name": "stdout",
          "text": [
            "Empty DataFrame\n",
            "Columns: [crim, zn, indus, chas, nox, rm, age, dis, rad, tax, ptratio, b, lstat, medv, CATEGORY, is_charles_river]\n",
            "Index: []\n"
          ]
        }
      ]
    },
    {
      "cell_type": "code",
      "source": [
        "Q1 = df['ptratio'].quantile(0.25)\n",
        "Q3 = df['ptratio'].quantile(0.75)\n",
        "\n",
        "IQR = Q3 - Q1\n",
        "\n",
        "lower_bound = Q1 - 1.5 * IQR\n",
        "upper_bound = Q3 + 1.5 * IQR\n",
        "\n",
        "outliers = df[(df['ptratio'] < lower_bound) | (df['ptratio'] > upper_bound)]\n",
        "\n",
        "print(outliers)\n",
        "\n",
        "\n",
        "\n",
        "\n",
        "\n",
        "\n"
      ],
      "metadata": {
        "colab": {
          "base_uri": "https://localhost:8080/"
        },
        "id": "P220VbfRfpVb",
        "outputId": "2c40678a-3f74-4eee-e7c1-21b0cd168636"
      },
      "execution_count": null,
      "outputs": [
        {
          "output_type": "stream",
          "name": "stdout",
          "text": [
            "        crim    zn  indus  chas    nox     rm    age     dis  rad  tax  \\\n",
            "196  0.04011  80.0   1.52     0  0.404  7.287   34.1  7.3090    2  329   \n",
            "197  0.04666  80.0   1.52     0  0.404  7.107   36.6  7.3090    2  329   \n",
            "198  0.03768  80.0   1.52     0  0.404  7.274   38.3  7.3090    2  329   \n",
            "257  0.61154  20.0   3.97     0  0.647  8.704   86.9  1.8010    5  264   \n",
            "258  0.66351  20.0   3.97     0  0.647  7.333  100.0  1.8946    5  264   \n",
            "259  0.65665  20.0   3.97     0  0.647  6.842  100.0  2.0107    5  264   \n",
            "260  0.54011  20.0   3.97     0  0.647  7.203   81.8  2.1121    5  264   \n",
            "261  0.53412  20.0   3.97     0  0.647  7.520   89.4  2.1398    5  264   \n",
            "262  0.52014  20.0   3.97     0  0.647  8.398   91.5  2.2885    5  264   \n",
            "263  0.82526  20.0   3.97     0  0.647  7.327   94.5  2.0788    5  264   \n",
            "264  0.55007  20.0   3.97     0  0.647  7.206   91.6  1.9301    5  264   \n",
            "265  0.76162  20.0   3.97     0  0.647  5.560   62.8  1.9865    5  264   \n",
            "266  0.78570  20.0   3.97     0  0.647  7.014   84.6  2.1329    5  264   \n",
            "267  0.57834  20.0   3.97     0  0.575  8.297   67.0  2.4216    5  264   \n",
            "268  0.54050  20.0   3.97     0  0.575  7.470   52.6  2.8720    5  264   \n",
            "\n",
            "     ptratio       b  lstat  medv     CATEGORY  is_charles_river  \n",
            "196     12.6  396.90   4.08  33.3  Middle-aged                 0  \n",
            "197     12.6  354.31   8.61  30.3  Middle-aged                 0  \n",
            "198     12.6  392.20   6.62  34.6  Middle-aged                 0  \n",
            "257     13.0  389.70   5.12  50.0          Old                 0  \n",
            "258     13.0  383.29   7.79  36.0          Old                 0  \n",
            "259     13.0  391.93   6.90  30.1          Old                 0  \n",
            "260     13.0  392.80   9.59  33.8          Old                 0  \n",
            "261     13.0  388.37   7.26  43.1          Old                 0  \n",
            "262     13.0  386.86   5.91  48.8          Old                 0  \n",
            "263     13.0  393.42  11.25  31.0          Old                 0  \n",
            "264     13.0  387.89   8.10  36.5          Old                 0  \n",
            "265     13.0  392.40  10.45  22.8          Old                 0  \n",
            "266     13.0  384.07  14.79  30.7          Old                 0  \n",
            "267     13.0  384.54   7.44  50.0          Old                 0  \n",
            "268     13.0  390.30   3.16  43.5  Middle-aged                 0  \n"
          ]
        }
      ]
    },
    {
      "cell_type": "code",
      "source": [
        "Q1 = df['b'].quantile(0.25)\n",
        "Q3 = df['b'].quantile(0.75)\n",
        "\n",
        "IQR = Q3 - Q1\n",
        "\n",
        "lower_bound = Q1 - 1.5 * IQR\n",
        "upper_bound = Q3 + 1.5 * IQR\n",
        "\n",
        "outliers = df[(df['b'] < lower_bound) | (df['b'] > upper_bound)]\n",
        "\n",
        "print(outliers)\n",
        "\n",
        "\n",
        "\n",
        "\n",
        "\n",
        "\n"
      ],
      "metadata": {
        "colab": {
          "base_uri": "https://localhost:8080/"
        },
        "id": "PsZZpu13fpft",
        "outputId": "a5effbd9-8f8e-4847-b10b-9db64c55c415"
      },
      "execution_count": null,
      "outputs": [
        {
          "output_type": "stream",
          "name": "stdout",
          "text": [
            "        crim   zn  indus  chas    nox     rm   age     dis  rad  tax  ptratio  \\\n",
            "18   0.80271  0.0   8.14     0  0.538  5.456  36.6  3.7965    4  307     21.0   \n",
            "25   0.84054  0.0   8.14     0  0.538  5.599  85.7  4.4546    4  307     21.0   \n",
            "27   0.95577  0.0   8.14     0  0.538  6.047  88.8  4.4534    4  307     21.0   \n",
            "32   1.38799  0.0   8.14     0  0.538  5.950  82.0  3.9900    4  307     21.0   \n",
            "34   1.61282  0.0   8.14     0  0.538  6.096  96.9  3.7598    4  307     21.0   \n",
            "..       ...  ...    ...   ...    ...    ...   ...     ...  ...  ...      ...   \n",
            "466  3.77498  0.0  18.10     0  0.655  5.952  84.7  2.8715   24  666     20.2   \n",
            "467  4.42228  0.0  18.10     0  0.584  6.003  94.5  2.5403   24  666     20.2   \n",
            "475  6.39312  0.0  18.10     0  0.584  6.162  97.4  2.2060   24  666     20.2   \n",
            "489  0.18337  0.0  27.74     0  0.609  5.414  98.3  1.7554    4  711     20.1   \n",
            "490  0.20746  0.0  27.74     0  0.609  5.093  98.0  1.8226    4  711     20.1   \n",
            "\n",
            "          b  lstat  medv     CATEGORY  is_charles_river  \n",
            "18   288.99  11.69  20.2  Middle-aged                 0  \n",
            "25   303.42  16.51  13.9          Old                 0  \n",
            "27   306.38  17.28  14.8          Old                 0  \n",
            "32   232.60  27.71  13.2          Old                 0  \n",
            "34   248.31  20.34  13.5          Old                 0  \n",
            "..      ...    ...   ...          ...               ...  \n",
            "466   22.01  17.15  19.0          Old                 0  \n",
            "467  331.29  21.32  19.1          Old                 0  \n",
            "475  302.76  24.10  13.3          Old                 0  \n",
            "489  344.05  23.97   7.0          Old                 0  \n",
            "490  318.43  29.68   8.1          Old                 0  \n",
            "\n",
            "[77 rows x 16 columns]\n"
          ]
        }
      ]
    },
    {
      "cell_type": "code",
      "source": [
        "Q1 = df['lstat'].quantile(0.25)\n",
        "Q3 = df['lstat'].quantile(0.75)\n",
        "\n",
        "IQR = Q3 - Q1\n",
        "\n",
        "lower_bound = Q1 - 1.5 * IQR\n",
        "upper_bound = Q3 + 1.5 * IQR\n",
        "\n",
        "outliers = df[(df['lstat'] < lower_bound) | (df['lstat'] > upper_bound)]\n",
        "\n",
        "print(outliers)\n",
        "\n",
        "\n",
        "\n",
        "\n",
        "\n",
        "\n"
      ],
      "metadata": {
        "colab": {
          "base_uri": "https://localhost:8080/"
        },
        "id": "r5svOT0PfpqW",
        "outputId": "daf3794f-96db-48a6-9bfa-b203447c0bfc"
      },
      "execution_count": null,
      "outputs": [
        {
          "output_type": "stream",
          "name": "stdout",
          "text": [
            "         crim   zn  indus  chas    nox     rm    age     dis  rad  tax  \\\n",
            "141   1.62864  0.0  21.89     0  0.624  5.019  100.0  1.4394    4  437   \n",
            "373  11.10810  0.0  18.10     0  0.668  4.906  100.0  1.1742   24  666   \n",
            "374  18.49820  0.0  18.10     0  0.668  4.138  100.0  1.1370   24  666   \n",
            "387  22.59710  0.0  18.10     0  0.700  5.000   89.5  1.5184   24  666   \n",
            "412  18.81100  0.0  18.10     0  0.597  4.628  100.0  1.5539   24  666   \n",
            "414  45.74610  0.0  18.10     0  0.693  4.519  100.0  1.6582   24  666   \n",
            "438  13.67810  0.0  18.10     0  0.740  5.935   87.9  1.8206   24  666   \n",
            "\n",
            "     ptratio       b  lstat  medv CATEGORY  is_charles_river  \n",
            "141     21.2  396.90  34.41  14.4      Old                 0  \n",
            "373     20.2  396.90  34.77  13.8      Old                 0  \n",
            "374     20.2  396.90  37.97  13.8      Old                 0  \n",
            "387     20.2  396.90  31.99   7.4      Old                 0  \n",
            "412     20.2   28.79  34.37  17.9      Old                 0  \n",
            "414     20.2   88.27  36.98   7.0      Old                 0  \n",
            "438     20.2   68.95  34.02   8.4      Old                 0  \n"
          ]
        }
      ]
    },
    {
      "cell_type": "code",
      "source": [
        "Q1 = df['medv'].quantile(0.25)\n",
        "Q3 = df['medv'].quantile(0.75)\n",
        "\n",
        "IQR = Q3 - Q1\n",
        "\n",
        "lower_bound = Q1 - 1.5 * IQR\n",
        "upper_bound = Q3 + 1.5 * IQR\n",
        "\n",
        "outliers = df[(df['medv'] < lower_bound) | (df['medv'] > upper_bound)]\n",
        "\n",
        "print(outliers)\n",
        "\n",
        "\n",
        "\n",
        "\n",
        "\n",
        "\n"
      ],
      "metadata": {
        "colab": {
          "base_uri": "https://localhost:8080/"
        },
        "id": "M70zM0effp1u",
        "outputId": "2c917c34-43a6-4850-8ad6-030c737c0447"
      },
      "execution_count": null,
      "outputs": [
        {
          "output_type": "stream",
          "name": "stdout",
          "text": [
            "         crim    zn  indus  chas     nox     rm    age     dis  rad  tax  \\\n",
            "97    0.12083   0.0   2.89     0  0.4450  8.069   76.0  3.4952    2  276   \n",
            "98    0.08187   0.0   2.89     0  0.4450  7.820   36.9  3.4952    2  276   \n",
            "157   1.22358   0.0  19.58     0  0.6050  6.943   97.4  1.8773    5  403   \n",
            "161   1.46336   0.0  19.58     0  0.6050  7.489   90.8  1.9709    5  403   \n",
            "162   1.83377   0.0  19.58     1  0.6050  7.802   98.2  2.0407    5  403   \n",
            "163   1.51902   0.0  19.58     1  0.6050  8.375   93.9  2.1620    5  403   \n",
            "166   2.01019   0.0  19.58     0  0.6050  7.929   96.2  2.0459    5  403   \n",
            "179   0.05780   0.0   2.46     0  0.4880  6.980   58.4  2.8290    3  193   \n",
            "180   0.06588   0.0   2.46     0  0.4880  7.765   83.3  2.7410    3  193   \n",
            "182   0.09103   0.0   2.46     0  0.4880  7.155   92.2  2.7006    3  193   \n",
            "186   0.05602   0.0   2.46     0  0.4880  7.831   53.6  3.1992    3  193   \n",
            "190   0.09068  45.0   3.44     0  0.4370  6.951   21.5  6.4798    5  398   \n",
            "195   0.01381  80.0   0.46     0  0.4220  7.875   32.0  5.6484    4  255   \n",
            "202   0.02177  82.5   2.03     0  0.4150  7.610   15.7  6.2700    2  348   \n",
            "203   0.03510  95.0   2.68     0  0.4161  7.853   33.2  5.1180    4  224   \n",
            "204   0.02009  95.0   2.68     0  0.4161  8.034   31.9  5.1180    4  224   \n",
            "224   0.31533   0.0   6.20     0  0.5040  8.266   78.3  2.8944    8  307   \n",
            "225   0.52693   0.0   6.20     0  0.5040  8.725   83.0  2.8944    8  307   \n",
            "226   0.38214   0.0   6.20     0  0.5040  8.040   86.5  3.2157    8  307   \n",
            "228   0.29819   0.0   6.20     0  0.5040  7.686   17.0  3.3751    8  307   \n",
            "232   0.57529   0.0   6.20     0  0.5070  8.337   73.3  3.8384    8  307   \n",
            "233   0.33147   0.0   6.20     0  0.5070  8.247   70.4  3.6519    8  307   \n",
            "253   0.36894  22.0   5.86     0  0.4310  8.259    8.4  8.9067    7  330   \n",
            "256   0.01538  90.0   3.75     0  0.3940  7.454   34.2  6.3361    3  244   \n",
            "257   0.61154  20.0   3.97     0  0.6470  8.704   86.9  1.8010    5  264   \n",
            "261   0.53412  20.0   3.97     0  0.6470  7.520   89.4  2.1398    5  264   \n",
            "262   0.52014  20.0   3.97     0  0.6470  8.398   91.5  2.2885    5  264   \n",
            "267   0.57834  20.0   3.97     0  0.5750  8.297   67.0  2.4216    5  264   \n",
            "268   0.54050  20.0   3.97     0  0.5750  7.470   52.6  2.8720    5  264   \n",
            "280   0.03578  20.0   3.33     0  0.4429  7.820   64.5  4.6947    5  216   \n",
            "282   0.06129  20.0   3.33     1  0.4429  7.645   49.7  5.2119    5  216   \n",
            "283   0.01501  90.0   1.21     1  0.4010  7.923   24.8  5.8850    1  198   \n",
            "291   0.07886  80.0   4.95     0  0.4110  7.148   27.7  5.1167    4  245   \n",
            "368   4.89822   0.0  18.10     0  0.6310  4.970  100.0  1.3325   24  666   \n",
            "369   5.66998   0.0  18.10     1  0.6310  6.683   96.8  1.3567   24  666   \n",
            "370   6.53876   0.0  18.10     1  0.6310  7.016   97.5  1.2024   24  666   \n",
            "371   9.23230   0.0  18.10     0  0.6310  6.216  100.0  1.1691   24  666   \n",
            "372   8.26725   0.0  18.10     1  0.6680  5.875   89.6  1.1296   24  666   \n",
            "398  38.35180   0.0  18.10     0  0.6930  5.453  100.0  1.4896   24  666   \n",
            "405  67.92080   0.0  18.10     0  0.6930  5.683  100.0  1.4254   24  666   \n",
            "\n",
            "     ptratio       b  lstat  medv     CATEGORY  is_charles_river  \n",
            "97      18.0  396.90   4.21  38.7          Old                 0  \n",
            "98      18.0  393.53   3.57  43.8  Middle-aged                 0  \n",
            "157     14.7  363.43   4.59  41.3          Old                 0  \n",
            "161     14.7  374.43   1.73  50.0          Old                 0  \n",
            "162     14.7  389.61   1.92  50.0          Old                 1  \n",
            "163     14.7  388.45   3.32  50.0          Old                 1  \n",
            "166     14.7  369.30   3.70  50.0          Old                 0  \n",
            "179     17.8  396.90   5.04  37.2  Middle-aged                 0  \n",
            "180     17.8  395.56   7.56  39.8          Old                 0  \n",
            "182     17.8  394.12   4.82  37.9          Old                 0  \n",
            "186     17.8  392.63   4.45  50.0  Middle-aged                 0  \n",
            "190     15.2  377.68   5.10  37.0        Young                 0  \n",
            "195     14.4  394.23   2.97  50.0  Middle-aged                 0  \n",
            "202     14.7  395.38   3.11  42.3        Young                 0  \n",
            "203     14.7  392.78   3.81  48.5  Middle-aged                 0  \n",
            "204     14.7  390.55   2.88  50.0  Middle-aged                 0  \n",
            "224     17.4  385.05   4.14  44.8          Old                 0  \n",
            "225     17.4  382.00   4.63  50.0          Old                 0  \n",
            "226     17.4  387.38   3.13  37.6          Old                 0  \n",
            "228     17.4  377.51   3.92  46.7        Young                 0  \n",
            "232     17.4  385.91   2.47  41.7          Old                 0  \n",
            "233     17.4  378.95   3.95  48.3          Old                 0  \n",
            "253     19.1  396.90   3.54  42.8        Young                 0  \n",
            "256     15.9  386.34   3.11  44.0  Middle-aged                 0  \n",
            "257     13.0  389.70   5.12  50.0          Old                 0  \n",
            "261     13.0  388.37   7.26  43.1          Old                 0  \n",
            "262     13.0  386.86   5.91  48.8          Old                 0  \n",
            "267     13.0  384.54   7.44  50.0          Old                 0  \n",
            "268     13.0  390.30   3.16  43.5  Middle-aged                 0  \n",
            "280     14.9  387.31   3.76  45.4          Old                 0  \n",
            "282     14.9  377.07   3.01  46.0  Middle-aged                 1  \n",
            "283     13.6  395.52   3.16  50.0        Young                 1  \n",
            "291     19.2  396.90   3.56  37.3        Young                 0  \n",
            "368     20.2  375.52   3.26  50.0          Old                 0  \n",
            "369     20.2  375.33   3.73  50.0          Old                 1  \n",
            "370     20.2  392.05   2.96  50.0          Old                 1  \n",
            "371     20.2  366.15   9.53  50.0          Old                 0  \n",
            "372     20.2  347.88   8.88  50.0          Old                 1  \n",
            "398     20.2  396.90  30.59   5.0          Old                 0  \n",
            "405     20.2  384.97  22.98   5.0          Old                 0  \n"
          ]
        }
      ]
    },
    {
      "cell_type": "code",
      "source": [
        "import numpy as np\n",
        "#To remove outliers.\n",
        "for a in ['crim']:\n",
        "    q75,q25 = np.percentile(df.loc[:,a],[75,25])\n",
        "    intr_qr = q75-q25\n",
        "    max = q75+(1.5*intr_qr)\n",
        "    min = q25-(1.5*intr_qr)\n",
        "    df.loc[df[a] < min,a] = np.nan\n",
        "    df.loc[df[a] > max,a] = np.nan\n",
        "    df = df.dropna(axis = 0)\n",
        "    df.isnull().sum()\n",
        "\n",
        "\n",
        "for b in ['zn']:\n",
        "       q_75,q_25 = np.percentile(df.loc[:,b],[75,25])\n",
        "       intr_qr = q_75-q_25\n",
        "       max = q_75+(1.5*intr_qr)\n",
        "       min = q_25-(1.5*intr_qr)\n",
        "       df.loc[df[b] < min,b] = np.nan\n",
        "       df.loc[df[b] > max,b] = np.nan\n",
        "       df = df.dropna(axis = 0)\n",
        "       df.isnull().sum()\n",
        "\n",
        "\n",
        "\n",
        "\n",
        "for c in ['indus']:\n",
        "    Q75,Q25 = np.percentile(df.loc[:,c],[75,25])\n",
        "    intr_qr = Q75-Q25\n",
        "    max = Q75+(1.5*intr_qr)\n",
        "    min = Q25-(1.5*intr_qr)\n",
        "    df.loc[df[c] < min,c] = np.nan\n",
        "    df.loc[df[c] > max,c] = np.nan\n",
        "    df = df.dropna(axis = 0)\n",
        "    df.isnull().sum()\n",
        "\n",
        "\n",
        "\n",
        "\n",
        "for d in ['chas']:\n",
        "    Q_75,Q_25 = np.percentile(df.loc[:,d],[75,25])\n",
        "    intr_qr = Q_75-Q_25\n",
        "    max = Q_75+(1.5*intr_qr)\n",
        "    min = Q_25-(1.5*intr_qr)\n",
        "    df.loc[df[d] < min,d] = np.nan\n",
        "    df.loc[df[d] > max,d] = np.nan\n",
        "    df = df.dropna(axis = 0)\n",
        "    df.isnull().sum()\n",
        "\n",
        "\n",
        "\n",
        "for e in ['nox']:\n",
        "    Q_75,Q_25 = np.percentile(df.loc[:,e],[75,25])\n",
        "    intr_qr = Q_75-Q_25\n",
        "    max = Q_75+(1.5*intr_qr)\n",
        "    min = Q_25-(1.5*intr_qr)\n",
        "    df.loc[df[e] < min,e] = np.nan\n",
        "    df.loc[df[e] > max,e] = np.nan\n",
        "    df = df.dropna(axis = 0)\n",
        "    df.isnull().sum()\n",
        "\n",
        "\n",
        "\n",
        "\n",
        "for f in ['rm']:\n",
        "    Q_75,Q_25 = np.percentile(df.loc[:,f],[75,25])\n",
        "    intr_qr = Q_75-Q_25\n",
        "    max = Q_75+(1.5*intr_qr)\n",
        "    min = Q_25-(1.5*intr_qr)\n",
        "    df.loc[df[f] < min,f] = np.nan\n",
        "    df.loc[df[f] > max,f] = np.nan\n",
        "    df = df.dropna(axis = 0)\n",
        "    df.isnull().sum()\n",
        "\n",
        "\n",
        "\n",
        "\n",
        "for g in ['age']:\n",
        "    Q_75,Q_25 = np.percentile(df.loc[:,g],[75,25])\n",
        "    intr_qr = Q_75-Q_25\n",
        "    max = Q_75+(1.5*intr_qr)\n",
        "    min = Q_25-(1.5*intr_qr)\n",
        "    df.loc[df[g] < min,g] = np.nan\n",
        "    df.loc[df[g] > max,g] = np.nan\n",
        "    df = df.dropna(axis = 0)\n",
        "    df.isnull().sum()\n",
        "\n",
        "\n",
        "\n",
        "\n",
        "for h in ['dis']:\n",
        "    Q_75,Q_25 = np.percentile(df.loc[:,h],[75,25])\n",
        "    intr_qr = Q_75-Q_25\n",
        "    max = Q_75+(1.5*intr_qr)\n",
        "    min = Q_25-(1.5*intr_qr)\n",
        "    df.loc[df[h] < min,h] = np.nan\n",
        "    df.loc[df[h] > max,h] = np.nan\n",
        "    df = df.dropna(axis = 0)\n",
        "    df.isnull().sum()\n",
        "\n",
        "\n",
        "\n",
        "\n",
        "for i in ['rad']:\n",
        "    Q_75,Q_25 = np.percentile(df.loc[:,i],[75,25])\n",
        "    intr_qr = Q_75-Q_25\n",
        "    max = Q_75+(1.5*intr_qr)\n",
        "    min = Q_25-(1.5*intr_qr)\n",
        "    df.loc[df[i] < min,i] = np.nan\n",
        "    df.loc[df[i] > max,i] = np.nan\n",
        "    df = df.dropna(axis = 0)\n",
        "    df.isnull().sum()\n",
        "\n",
        "\n",
        "\n",
        "\n",
        "for j in ['tax']:\n",
        "    Q_75,Q_25 = np.percentile(df.loc[:,j],[75,25])\n",
        "    intr_qr = Q_75-Q_25\n",
        "    max = Q_75+(1.5*intr_qr)\n",
        "    min = Q_25-(1.5*intr_qr)\n",
        "    df.loc[df[j] < min,j] = np.nan\n",
        "    df.loc[df[j] > max,j] = np.nan\n",
        "    df = df.dropna(axis = 0)\n",
        "    df.isnull().sum()\n",
        "\n",
        "\n",
        "\n",
        "for k in ['ptratio']:\n",
        "    Q_75,Q_25 = np.percentile(df.loc[:,k],[75,25])\n",
        "    intr_qr = Q_75-Q_25\n",
        "    max = Q_75+(1.5*intr_qr)\n",
        "    min = Q_25-(1.5*intr_qr)\n",
        "    df.loc[df[k] < min,k] = np.nan\n",
        "    df.loc[df[k] > max,k] = np.nan\n",
        "    df = df.dropna(axis = 0)\n",
        "    df.isnull().sum()\n",
        "\n",
        "\n",
        "\n",
        "\n",
        "for l in ['b']:\n",
        "    Q_75,Q_25 = np.percentile(df.loc[:,l],[75,25])\n",
        "    intr_qr = Q_75-Q_25\n",
        "    max = Q_75+(1.5*intr_qr)\n",
        "    min = Q_25-(1.5*intr_qr)\n",
        "    df.loc[df[l] < min,l] = np.nan\n",
        "    df.loc[df[l] > max,l] = np.nan\n",
        "    df = df.dropna(axis = 0)\n",
        "    df.isnull().sum()\n",
        "\n",
        "\n",
        "\n",
        "for m in ['lstat']:\n",
        "    Q_75,Q_25 = np.percentile(df.loc[:,m],[75,25])\n",
        "    intr_qr = Q_75-Q_25\n",
        "    max = Q_75+(1.5*intr_qr)\n",
        "    min = Q_25-(1.5*intr_qr)\n",
        "    df.loc[df[m] < min,m] = np.nan\n",
        "    df.loc[df[m] > max,m] = np.nan\n",
        "    df = df.dropna(axis = 0)\n",
        "    df.isnull().sum()\n",
        "\n",
        "\n",
        "\n",
        "for n in ['medv']:\n",
        "    Q_75,Q_25 = np.percentile(df.loc[:,n],[75,25])\n",
        "    intr_qr = Q_75-Q_25\n",
        "    max = Q_75+(1.5*intr_qr)\n",
        "    min = Q_25-(1.5*intr_qr)\n",
        "    df.loc[df[n] < min,n] = np.nan\n",
        "    df.loc[df[n] > max,n] = np.nan\n",
        "    df = df.dropna(axis = 0)\n",
        "    df.isnull().sum()\n",
        "\n",
        "    print(df)\n"
      ],
      "metadata": {
        "colab": {
          "base_uri": "https://localhost:8080/"
        },
        "id": "ZtM0lzmXT2mY",
        "outputId": "cc6a2e2d-cb93-44a4-d0c1-ab5e3cff10c5"
      },
      "execution_count": null,
      "outputs": [
        {
          "output_type": "stream",
          "name": "stdout",
          "text": [
            "        crim    zn  indus  chas    nox     rm   age     dis  rad    tax  \\\n",
            "0    0.00632  18.0   2.31   0.0  0.538  6.575  65.2  4.0900  1.0  296.0   \n",
            "1    0.02731   0.0   7.07   0.0  0.469  6.421  78.9  4.9671  2.0  242.0   \n",
            "5    0.02985   0.0   2.18   0.0  0.458  6.430  58.7  6.0622  3.0  222.0   \n",
            "6    0.08829  12.5   7.87   0.0  0.524  6.012  66.6  5.5605  5.0  311.0   \n",
            "7    0.14455  12.5   7.87   0.0  0.524  6.172  96.1  5.9505  5.0  311.0   \n",
            "..       ...   ...    ...   ...    ...    ...   ...     ...  ...    ...   \n",
            "501  0.06263   0.0  11.93   0.0  0.573  6.593  69.1  2.4786  1.0  273.0   \n",
            "502  0.04527   0.0  11.93   0.0  0.573  6.120  76.7  2.2875  1.0  273.0   \n",
            "503  0.06076   0.0  11.93   0.0  0.573  6.976  91.0  2.1675  1.0  273.0   \n",
            "504  0.10959   0.0  11.93   0.0  0.573  6.794  89.3  2.3889  1.0  273.0   \n",
            "505  0.04741   0.0  11.93   0.0  0.573  6.030  80.8  2.5050  1.0  273.0   \n",
            "\n",
            "     ptratio       b  lstat  medv     CATEGORY  is_charles_river  \n",
            "0       15.3  396.90   4.98  24.0          Old                 0  \n",
            "1       17.8  396.90   9.14  21.6          Old                 0  \n",
            "5       18.7  394.12   5.21  28.7  Middle-aged                 0  \n",
            "6       15.2  395.60  12.43  22.9          Old                 0  \n",
            "7       15.2  396.90  19.15  27.1          Old                 0  \n",
            "..       ...     ...    ...   ...          ...               ...  \n",
            "501     21.0  391.99   9.67  22.4          Old                 0  \n",
            "502     21.0  396.90   9.08  20.6          Old                 0  \n",
            "503     21.0  396.90   5.64  23.9          Old                 0  \n",
            "504     21.0  393.45   6.48  22.0          Old                 0  \n",
            "505     21.0  396.90   7.88  11.9          Old                 0  \n",
            "\n",
            "[214 rows x 16 columns]\n"
          ]
        }
      ]
    },
    {
      "cell_type": "markdown",
      "source": [
        "**Removing Noise**"
      ],
      "metadata": {
        "id": "T2Ba25xtPi8m"
      }
    },
    {
      "cell_type": "code",
      "source": [
        "from sklearn.cluster import DBSCAN\n",
        "import numpy as np\n",
        "columns_to_clean = ['crim', 'zn', 'indus', 'chas', 'nox', 'rm', 'age', 'dis', 'rad', 'tax', 'ptratio', 'b', 'lstat', 'medv']\n",
        "\n",
        "data_to_clean = df[columns_to_clean]\n",
        "\n",
        "dbscan = DBSCAN(eps = 4, min_samples = 5)\n",
        "dbscan.fit(data_to_clean)\n",
        "\n",
        "non_noise_indices = np.where(dbscan.labels_ != -1)[0]\n",
        "\n",
        "cleaned_data = df.iloc[non_noise_indices]\n",
        "\n",
        "print(cleaned_data)"
      ],
      "metadata": {
        "colab": {
          "base_uri": "https://localhost:8080/"
        },
        "id": "yI7xlQcVPY9a",
        "outputId": "41a6dbb7-744d-4ee9-a692-ce2bd3525bb2"
      },
      "execution_count": null,
      "outputs": [
        {
          "output_type": "stream",
          "name": "stdout",
          "text": [
            "        crim   zn  indus  chas    nox     rm   age     dis  rad    tax  \\\n",
            "127  0.25915  0.0  21.89   0.0  0.624  5.693  96.0  1.7883  4.0  437.0   \n",
            "128  0.32543  0.0  21.89   0.0  0.624  6.431  98.8  1.8125  4.0  437.0   \n",
            "130  0.34006  0.0  21.89   0.0  0.624  6.458  98.9  2.1185  4.0  437.0   \n",
            "131  1.19294  0.0  21.89   0.0  0.624  6.326  97.7  2.2710  4.0  437.0   \n",
            "135  0.55778  0.0  21.89   0.0  0.624  6.335  98.2  2.1107  4.0  437.0   \n",
            "137  0.35233  0.0  21.89   0.0  0.624  6.454  98.4  1.8498  4.0  437.0   \n",
            "139  0.54452  0.0  21.89   0.0  0.624  6.151  97.9  1.6687  4.0  437.0   \n",
            "\n",
            "     ptratio       b  lstat  medv CATEGORY  is_charles_river  \n",
            "127     21.2  392.11  17.19  16.2      Old                 0  \n",
            "128     21.2  396.90  15.39  18.0      Old                 0  \n",
            "130     21.2  395.04  12.60  19.2      Old                 0  \n",
            "131     21.2  396.90  12.26  19.6      Old                 0  \n",
            "135     21.2  394.67  16.96  18.1      Old                 0  \n",
            "137     21.2  394.08  14.59  17.1      Old                 0  \n",
            "139     21.2  396.90  18.46  17.8      Old                 0  \n"
          ]
        }
      ]
    },
    {
      "cell_type": "code",
      "source": [
        "import math\n",
        "df = pd.read_csv('/content/House Pricing.csv')\n",
        "data = df['rm']\n",
        "data = data[:507]\n",
        "data=np.sort(data)\n",
        "print(data)\n",
        "\n",
        "b1=np.zeros((10,3))\n",
        "b2=np.zeros((10,3))\n",
        "b3=np.zeros((10,3))\n",
        "for i in range (0,30,3):\n",
        "  k=int(i/3)\n",
        "  for j in range (3):\n",
        "    b2[k,j]=data[i+1]\n",
        "print(\"Median Bin\\n\",b2)"
      ],
      "metadata": {
        "colab": {
          "base_uri": "https://localhost:8080/"
        },
        "id": "Urvo4ePppFF6",
        "outputId": "9b96357e-1e04-4d5c-ffa5-600cbc695343"
      },
      "execution_count": null,
      "outputs": [
        {
          "output_type": "stream",
          "name": "stdout",
          "text": [
            "[3.561 3.863 4.138 4.138 4.368 4.519 4.628 4.652 4.88  4.903 4.906 4.926\n",
            " 4.963 4.97  4.973 5.    5.012 5.019 5.036 5.093 5.155 5.186 5.272 5.277\n",
            " 5.304 5.304 5.344 5.349 5.362 5.39  5.39  5.399 5.403 5.404 5.404 5.412\n",
            " 5.414 5.427 5.453 5.454 5.456 5.468 5.52  5.531 5.536 5.56  5.565 5.569\n",
            " 5.57  5.572 5.593 5.594 5.597 5.599 5.602 5.604 5.605 5.608 5.613 5.617\n",
            " 5.627 5.628 5.631 5.637 5.648 5.663 5.67  5.682 5.683 5.693 5.701 5.705\n",
            " 5.706 5.707 5.708 5.709 5.713 5.713 5.713 5.727 5.731 5.741 5.747 5.757\n",
            " 5.757 5.759 5.762 5.782 5.783 5.786 5.787 5.79  5.794 5.803 5.807 5.813\n",
            " 5.813 5.818 5.822 5.834 5.836 5.837 5.841 5.85  5.851 5.852 5.854 5.854\n",
            " 5.856 5.856 5.857 5.859 5.868 5.869 5.87  5.871 5.872 5.874 5.875 5.875\n",
            " 5.876 5.877 5.878 5.879 5.88  5.884 5.885 5.887 5.888 5.888 5.889 5.891\n",
            " 5.895 5.896 5.898 5.905 5.913 5.914 5.92  5.924 5.926 5.926 5.927 5.928\n",
            " 5.933 5.935 5.935 5.936 5.936 5.942 5.949 5.95  5.951 5.952 5.957 5.96\n",
            " 5.961 5.961 5.963 5.965 5.966 5.966 5.968 5.972 5.976 5.981 5.983 5.983\n",
            " 5.985 5.986 5.987 5.99  5.998 6.003 6.004 6.004 6.006 6.009 6.009 6.012\n",
            " 6.014 6.015 6.019 6.02  6.021 6.023 6.027 6.03  6.03  6.031 6.037 6.041\n",
            " 6.047 6.051 6.059 6.064 6.065 6.066 6.069 6.072 6.081 6.083 6.086 6.092\n",
            " 6.095 6.096 6.096 6.101 6.103 6.108 6.108 6.112 6.113 6.114 6.115 6.12\n",
            " 6.121 6.122 6.122 6.127 6.127 6.127 6.129 6.13  6.137 6.14  6.142 6.144\n",
            " 6.144 6.145 6.151 6.152 6.152 6.153 6.162 6.162 6.163 6.164 6.167 6.167\n",
            " 6.167 6.169 6.172 6.174 6.176 6.182 6.185 6.185 6.193 6.193 6.195 6.202\n",
            " 6.208 6.209 6.209 6.211 6.211 6.212 6.216 6.219 6.223 6.226 6.229 6.229\n",
            " 6.229 6.23  6.232 6.24  6.242 6.245 6.249 6.25  6.251 6.251 6.254 6.266\n",
            " 6.273 6.279 6.286 6.29  6.297 6.301 6.302 6.31  6.312 6.312 6.315 6.315\n",
            " 6.316 6.317 6.319 6.326 6.326 6.333 6.335 6.341 6.343 6.345 6.348 6.358\n",
            " 6.372 6.373 6.375 6.376 6.376 6.377 6.38  6.38  6.382 6.383 6.389 6.393\n",
            " 6.395 6.398 6.402 6.404 6.405 6.405 6.405 6.406 6.411 6.415 6.416 6.417\n",
            " 6.417 6.417 6.421 6.425 6.426 6.43  6.431 6.431 6.433 6.434 6.436 6.437\n",
            " 6.438 6.442 6.453 6.454 6.456 6.458 6.459 6.461 6.471 6.474 6.481 6.482\n",
            " 6.484 6.485 6.487 6.49  6.495 6.495 6.51  6.511 6.513 6.516 6.525 6.538\n",
            " 6.54  6.545 6.546 6.549 6.552 6.556 6.563 6.565 6.567 6.575 6.579 6.59\n",
            " 6.593 6.595 6.604 6.606 6.616 6.618 6.619 6.625 6.629 6.63  6.63  6.631\n",
            " 6.635 6.635 6.642 6.649 6.655 6.657 6.674 6.678 6.683 6.696 6.701 6.715\n",
            " 6.718 6.726 6.727 6.727 6.728 6.728 6.739 6.749 6.75  6.758 6.762 6.77\n",
            " 6.781 6.782 6.782 6.794 6.794 6.8   6.812 6.816 6.824 6.826 6.833 6.842\n",
            " 6.849 6.852 6.854 6.86  6.861 6.871 6.874 6.879 6.897 6.939 6.943 6.951\n",
            " 6.951 6.957 6.968 6.968 6.975 6.976 6.98  6.98  6.982 6.998 7.007 7.014\n",
            " 7.016 7.024 7.041 7.061 7.079 7.088 7.104 7.107 7.135 7.147 7.148 7.155\n",
            " 7.163 7.178 7.185 7.185 7.203 7.206 7.236 7.241 7.249 7.267 7.274 7.287\n",
            " 7.313 7.327 7.333 7.358 7.393 7.412 7.416 7.42  7.454 7.47  7.489 7.52\n",
            " 7.61  7.645 7.686 7.691 7.765 7.802 7.82  7.82  7.831 7.853 7.875 7.923\n",
            " 7.929 8.034 8.04  8.069 8.247 8.259 8.266 8.297 8.337 8.375 8.398 8.704\n",
            " 8.725 8.78 ]\n",
            "Median Bin\n",
            " [[3.863 3.863 3.863]\n",
            " [4.368 4.368 4.368]\n",
            " [4.652 4.652 4.652]\n",
            " [4.906 4.906 4.906]\n",
            " [4.97  4.97  4.97 ]\n",
            " [5.012 5.012 5.012]\n",
            " [5.093 5.093 5.093]\n",
            " [5.272 5.272 5.272]\n",
            " [5.304 5.304 5.304]\n",
            " [5.362 5.362 5.362]]\n"
          ]
        }
      ]
    },
    {
      "cell_type": "code",
      "source": [
        "from sklearn.preprocessing import StandardScaler, MinMaxScaler\n",
        "numerical_columns = ['tax', 'lstat']\n",
        "minmax_scaler = MinMaxScaler()\n",
        "df[numerical_columns] = minmax_scaler.fit_transform(df[numerical_columns])\n",
        "print(df)\n",
        "df.head()\n"
      ],
      "metadata": {
        "colab": {
          "base_uri": "https://localhost:8080/",
          "height": 675
        },
        "id": "ABHGikIQpFZH",
        "outputId": "3c87b474-8f2c-466d-fccf-b12d96a67188"
      },
      "execution_count": null,
      "outputs": [
        {
          "output_type": "stream",
          "name": "stdout",
          "text": [
            "        crim    zn  indus  chas    nox     rm   age     dis  rad       tax  \\\n",
            "0    0.00632  18.0   2.31     0  0.538  6.575  65.2  4.0900    1  0.208015   \n",
            "1    0.02731   0.0   7.07     0  0.469  6.421  78.9  4.9671    2  0.104962   \n",
            "2    0.02729   0.0   7.07     0  0.469  7.185  61.1  4.9671    2  0.104962   \n",
            "3    0.03237   0.0   2.18     0  0.458  6.998  45.8  6.0622    3  0.066794   \n",
            "4    0.06905   0.0   2.18     0  0.458  7.147  54.2  6.0622    3  0.066794   \n",
            "..       ...   ...    ...   ...    ...    ...   ...     ...  ...       ...   \n",
            "501  0.06263   0.0  11.93     0  0.573  6.593  69.1  2.4786    1  0.164122   \n",
            "502  0.04527   0.0  11.93     0  0.573  6.120  76.7  2.2875    1  0.164122   \n",
            "503  0.06076   0.0  11.93     0  0.573  6.976  91.0  2.1675    1  0.164122   \n",
            "504  0.10959   0.0  11.93     0  0.573  6.794  89.3  2.3889    1  0.164122   \n",
            "505  0.04741   0.0  11.93     0  0.573  6.030  80.8  2.5050    1  0.164122   \n",
            "\n",
            "     ptratio       b     lstat  medv  \n",
            "0       15.3  396.90  0.089680  24.0  \n",
            "1       17.8  396.90  0.204470  21.6  \n",
            "2       17.8  392.83  0.063466  34.7  \n",
            "3       18.7  394.63  0.033389  33.4  \n",
            "4       18.7  396.90  0.099338  36.2  \n",
            "..       ...     ...       ...   ...  \n",
            "501     21.0  391.99  0.219095  22.4  \n",
            "502     21.0  396.90  0.202815  20.6  \n",
            "503     21.0  396.90  0.107892  23.9  \n",
            "504     21.0  393.45  0.131071  22.0  \n",
            "505     21.0  396.90  0.169702  11.9  \n",
            "\n",
            "[506 rows x 14 columns]\n"
          ]
        },
        {
          "output_type": "execute_result",
          "data": {
            "text/plain": [
              "      crim    zn  indus  chas    nox     rm   age     dis  rad       tax  \\\n",
              "0  0.00632  18.0   2.31     0  0.538  6.575  65.2  4.0900    1  0.208015   \n",
              "1  0.02731   0.0   7.07     0  0.469  6.421  78.9  4.9671    2  0.104962   \n",
              "2  0.02729   0.0   7.07     0  0.469  7.185  61.1  4.9671    2  0.104962   \n",
              "3  0.03237   0.0   2.18     0  0.458  6.998  45.8  6.0622    3  0.066794   \n",
              "4  0.06905   0.0   2.18     0  0.458  7.147  54.2  6.0622    3  0.066794   \n",
              "\n",
              "   ptratio       b     lstat  medv  \n",
              "0     15.3  396.90  0.089680  24.0  \n",
              "1     17.8  396.90  0.204470  21.6  \n",
              "2     17.8  392.83  0.063466  34.7  \n",
              "3     18.7  394.63  0.033389  33.4  \n",
              "4     18.7  396.90  0.099338  36.2  "
            ],
            "text/html": [
              "\n",
              "  <div id=\"df-ddeb6bff-1b06-4850-9561-bf80f7186492\" class=\"colab-df-container\">\n",
              "    <div>\n",
              "<style scoped>\n",
              "    .dataframe tbody tr th:only-of-type {\n",
              "        vertical-align: middle;\n",
              "    }\n",
              "\n",
              "    .dataframe tbody tr th {\n",
              "        vertical-align: top;\n",
              "    }\n",
              "\n",
              "    .dataframe thead th {\n",
              "        text-align: right;\n",
              "    }\n",
              "</style>\n",
              "<table border=\"1\" class=\"dataframe\">\n",
              "  <thead>\n",
              "    <tr style=\"text-align: right;\">\n",
              "      <th></th>\n",
              "      <th>crim</th>\n",
              "      <th>zn</th>\n",
              "      <th>indus</th>\n",
              "      <th>chas</th>\n",
              "      <th>nox</th>\n",
              "      <th>rm</th>\n",
              "      <th>age</th>\n",
              "      <th>dis</th>\n",
              "      <th>rad</th>\n",
              "      <th>tax</th>\n",
              "      <th>ptratio</th>\n",
              "      <th>b</th>\n",
              "      <th>lstat</th>\n",
              "      <th>medv</th>\n",
              "    </tr>\n",
              "  </thead>\n",
              "  <tbody>\n",
              "    <tr>\n",
              "      <th>0</th>\n",
              "      <td>0.00632</td>\n",
              "      <td>18.0</td>\n",
              "      <td>2.31</td>\n",
              "      <td>0</td>\n",
              "      <td>0.538</td>\n",
              "      <td>6.575</td>\n",
              "      <td>65.2</td>\n",
              "      <td>4.0900</td>\n",
              "      <td>1</td>\n",
              "      <td>0.208015</td>\n",
              "      <td>15.3</td>\n",
              "      <td>396.90</td>\n",
              "      <td>0.089680</td>\n",
              "      <td>24.0</td>\n",
              "    </tr>\n",
              "    <tr>\n",
              "      <th>1</th>\n",
              "      <td>0.02731</td>\n",
              "      <td>0.0</td>\n",
              "      <td>7.07</td>\n",
              "      <td>0</td>\n",
              "      <td>0.469</td>\n",
              "      <td>6.421</td>\n",
              "      <td>78.9</td>\n",
              "      <td>4.9671</td>\n",
              "      <td>2</td>\n",
              "      <td>0.104962</td>\n",
              "      <td>17.8</td>\n",
              "      <td>396.90</td>\n",
              "      <td>0.204470</td>\n",
              "      <td>21.6</td>\n",
              "    </tr>\n",
              "    <tr>\n",
              "      <th>2</th>\n",
              "      <td>0.02729</td>\n",
              "      <td>0.0</td>\n",
              "      <td>7.07</td>\n",
              "      <td>0</td>\n",
              "      <td>0.469</td>\n",
              "      <td>7.185</td>\n",
              "      <td>61.1</td>\n",
              "      <td>4.9671</td>\n",
              "      <td>2</td>\n",
              "      <td>0.104962</td>\n",
              "      <td>17.8</td>\n",
              "      <td>392.83</td>\n",
              "      <td>0.063466</td>\n",
              "      <td>34.7</td>\n",
              "    </tr>\n",
              "    <tr>\n",
              "      <th>3</th>\n",
              "      <td>0.03237</td>\n",
              "      <td>0.0</td>\n",
              "      <td>2.18</td>\n",
              "      <td>0</td>\n",
              "      <td>0.458</td>\n",
              "      <td>6.998</td>\n",
              "      <td>45.8</td>\n",
              "      <td>6.0622</td>\n",
              "      <td>3</td>\n",
              "      <td>0.066794</td>\n",
              "      <td>18.7</td>\n",
              "      <td>394.63</td>\n",
              "      <td>0.033389</td>\n",
              "      <td>33.4</td>\n",
              "    </tr>\n",
              "    <tr>\n",
              "      <th>4</th>\n",
              "      <td>0.06905</td>\n",
              "      <td>0.0</td>\n",
              "      <td>2.18</td>\n",
              "      <td>0</td>\n",
              "      <td>0.458</td>\n",
              "      <td>7.147</td>\n",
              "      <td>54.2</td>\n",
              "      <td>6.0622</td>\n",
              "      <td>3</td>\n",
              "      <td>0.066794</td>\n",
              "      <td>18.7</td>\n",
              "      <td>396.90</td>\n",
              "      <td>0.099338</td>\n",
              "      <td>36.2</td>\n",
              "    </tr>\n",
              "  </tbody>\n",
              "</table>\n",
              "</div>\n",
              "    <div class=\"colab-df-buttons\">\n",
              "\n",
              "  <div class=\"colab-df-container\">\n",
              "    <button class=\"colab-df-convert\" onclick=\"convertToInteractive('df-ddeb6bff-1b06-4850-9561-bf80f7186492')\"\n",
              "            title=\"Convert this dataframe to an interactive table.\"\n",
              "            style=\"display:none;\">\n",
              "\n",
              "  <svg xmlns=\"http://www.w3.org/2000/svg\" height=\"24px\" viewBox=\"0 -960 960 960\">\n",
              "    <path d=\"M120-120v-720h720v720H120Zm60-500h600v-160H180v160Zm220 220h160v-160H400v160Zm0 220h160v-160H400v160ZM180-400h160v-160H180v160Zm440 0h160v-160H620v160ZM180-180h160v-160H180v160Zm440 0h160v-160H620v160Z\"/>\n",
              "  </svg>\n",
              "    </button>\n",
              "\n",
              "  <style>\n",
              "    .colab-df-container {\n",
              "      display:flex;\n",
              "      gap: 12px;\n",
              "    }\n",
              "\n",
              "    .colab-df-convert {\n",
              "      background-color: #E8F0FE;\n",
              "      border: none;\n",
              "      border-radius: 50%;\n",
              "      cursor: pointer;\n",
              "      display: none;\n",
              "      fill: #1967D2;\n",
              "      height: 32px;\n",
              "      padding: 0 0 0 0;\n",
              "      width: 32px;\n",
              "    }\n",
              "\n",
              "    .colab-df-convert:hover {\n",
              "      background-color: #E2EBFA;\n",
              "      box-shadow: 0px 1px 2px rgba(60, 64, 67, 0.3), 0px 1px 3px 1px rgba(60, 64, 67, 0.15);\n",
              "      fill: #174EA6;\n",
              "    }\n",
              "\n",
              "    .colab-df-buttons div {\n",
              "      margin-bottom: 4px;\n",
              "    }\n",
              "\n",
              "    [theme=dark] .colab-df-convert {\n",
              "      background-color: #3B4455;\n",
              "      fill: #D2E3FC;\n",
              "    }\n",
              "\n",
              "    [theme=dark] .colab-df-convert:hover {\n",
              "      background-color: #434B5C;\n",
              "      box-shadow: 0px 1px 3px 1px rgba(0, 0, 0, 0.15);\n",
              "      filter: drop-shadow(0px 1px 2px rgba(0, 0, 0, 0.3));\n",
              "      fill: #FFFFFF;\n",
              "    }\n",
              "  </style>\n",
              "\n",
              "    <script>\n",
              "      const buttonEl =\n",
              "        document.querySelector('#df-ddeb6bff-1b06-4850-9561-bf80f7186492 button.colab-df-convert');\n",
              "      buttonEl.style.display =\n",
              "        google.colab.kernel.accessAllowed ? 'block' : 'none';\n",
              "\n",
              "      async function convertToInteractive(key) {\n",
              "        const element = document.querySelector('#df-ddeb6bff-1b06-4850-9561-bf80f7186492');\n",
              "        const dataTable =\n",
              "          await google.colab.kernel.invokeFunction('convertToInteractive',\n",
              "                                                    [key], {});\n",
              "        if (!dataTable) return;\n",
              "\n",
              "        const docLinkHtml = 'Like what you see? Visit the ' +\n",
              "          '<a target=\"_blank\" href=https://colab.research.google.com/notebooks/data_table.ipynb>data table notebook</a>'\n",
              "          + ' to learn more about interactive tables.';\n",
              "        element.innerHTML = '';\n",
              "        dataTable['output_type'] = 'display_data';\n",
              "        await google.colab.output.renderOutput(dataTable, element);\n",
              "        const docLink = document.createElement('div');\n",
              "        docLink.innerHTML = docLinkHtml;\n",
              "        element.appendChild(docLink);\n",
              "      }\n",
              "    </script>\n",
              "  </div>\n",
              "\n",
              "\n",
              "<div id=\"df-e82b7327-8da2-4ee4-ab42-c4b663840f9f\">\n",
              "  <button class=\"colab-df-quickchart\" onclick=\"quickchart('df-e82b7327-8da2-4ee4-ab42-c4b663840f9f')\"\n",
              "            title=\"Suggest charts.\"\n",
              "            style=\"display:none;\">\n",
              "\n",
              "<svg xmlns=\"http://www.w3.org/2000/svg\" height=\"24px\"viewBox=\"0 0 24 24\"\n",
              "     width=\"24px\">\n",
              "    <g>\n",
              "        <path d=\"M19 3H5c-1.1 0-2 .9-2 2v14c0 1.1.9 2 2 2h14c1.1 0 2-.9 2-2V5c0-1.1-.9-2-2-2zM9 17H7v-7h2v7zm4 0h-2V7h2v10zm4 0h-2v-4h2v4z\"/>\n",
              "    </g>\n",
              "</svg>\n",
              "  </button>\n",
              "\n",
              "<style>\n",
              "  .colab-df-quickchart {\n",
              "      --bg-color: #E8F0FE;\n",
              "      --fill-color: #1967D2;\n",
              "      --hover-bg-color: #E2EBFA;\n",
              "      --hover-fill-color: #174EA6;\n",
              "      --disabled-fill-color: #AAA;\n",
              "      --disabled-bg-color: #DDD;\n",
              "  }\n",
              "\n",
              "  [theme=dark] .colab-df-quickchart {\n",
              "      --bg-color: #3B4455;\n",
              "      --fill-color: #D2E3FC;\n",
              "      --hover-bg-color: #434B5C;\n",
              "      --hover-fill-color: #FFFFFF;\n",
              "      --disabled-bg-color: #3B4455;\n",
              "      --disabled-fill-color: #666;\n",
              "  }\n",
              "\n",
              "  .colab-df-quickchart {\n",
              "    background-color: var(--bg-color);\n",
              "    border: none;\n",
              "    border-radius: 50%;\n",
              "    cursor: pointer;\n",
              "    display: none;\n",
              "    fill: var(--fill-color);\n",
              "    height: 32px;\n",
              "    padding: 0;\n",
              "    width: 32px;\n",
              "  }\n",
              "\n",
              "  .colab-df-quickchart:hover {\n",
              "    background-color: var(--hover-bg-color);\n",
              "    box-shadow: 0 1px 2px rgba(60, 64, 67, 0.3), 0 1px 3px 1px rgba(60, 64, 67, 0.15);\n",
              "    fill: var(--button-hover-fill-color);\n",
              "  }\n",
              "\n",
              "  .colab-df-quickchart-complete:disabled,\n",
              "  .colab-df-quickchart-complete:disabled:hover {\n",
              "    background-color: var(--disabled-bg-color);\n",
              "    fill: var(--disabled-fill-color);\n",
              "    box-shadow: none;\n",
              "  }\n",
              "\n",
              "  .colab-df-spinner {\n",
              "    border: 2px solid var(--fill-color);\n",
              "    border-color: transparent;\n",
              "    border-bottom-color: var(--fill-color);\n",
              "    animation:\n",
              "      spin 1s steps(1) infinite;\n",
              "  }\n",
              "\n",
              "  @keyframes spin {\n",
              "    0% {\n",
              "      border-color: transparent;\n",
              "      border-bottom-color: var(--fill-color);\n",
              "      border-left-color: var(--fill-color);\n",
              "    }\n",
              "    20% {\n",
              "      border-color: transparent;\n",
              "      border-left-color: var(--fill-color);\n",
              "      border-top-color: var(--fill-color);\n",
              "    }\n",
              "    30% {\n",
              "      border-color: transparent;\n",
              "      border-left-color: var(--fill-color);\n",
              "      border-top-color: var(--fill-color);\n",
              "      border-right-color: var(--fill-color);\n",
              "    }\n",
              "    40% {\n",
              "      border-color: transparent;\n",
              "      border-right-color: var(--fill-color);\n",
              "      border-top-color: var(--fill-color);\n",
              "    }\n",
              "    60% {\n",
              "      border-color: transparent;\n",
              "      border-right-color: var(--fill-color);\n",
              "    }\n",
              "    80% {\n",
              "      border-color: transparent;\n",
              "      border-right-color: var(--fill-color);\n",
              "      border-bottom-color: var(--fill-color);\n",
              "    }\n",
              "    90% {\n",
              "      border-color: transparent;\n",
              "      border-bottom-color: var(--fill-color);\n",
              "    }\n",
              "  }\n",
              "</style>\n",
              "\n",
              "  <script>\n",
              "    async function quickchart(key) {\n",
              "      const quickchartButtonEl =\n",
              "        document.querySelector('#' + key + ' button');\n",
              "      quickchartButtonEl.disabled = true;  // To prevent multiple clicks.\n",
              "      quickchartButtonEl.classList.add('colab-df-spinner');\n",
              "      try {\n",
              "        const charts = await google.colab.kernel.invokeFunction(\n",
              "            'suggestCharts', [key], {});\n",
              "      } catch (error) {\n",
              "        console.error('Error during call to suggestCharts:', error);\n",
              "      }\n",
              "      quickchartButtonEl.classList.remove('colab-df-spinner');\n",
              "      quickchartButtonEl.classList.add('colab-df-quickchart-complete');\n",
              "    }\n",
              "    (() => {\n",
              "      let quickchartButtonEl =\n",
              "        document.querySelector('#df-e82b7327-8da2-4ee4-ab42-c4b663840f9f button');\n",
              "      quickchartButtonEl.style.display =\n",
              "        google.colab.kernel.accessAllowed ? 'block' : 'none';\n",
              "    })();\n",
              "  </script>\n",
              "</div>\n",
              "    </div>\n",
              "  </div>\n"
            ]
          },
          "metadata": {},
          "execution_count": 22
        }
      ]
    },
    {
      "cell_type": "code",
      "source": [
        "import numpy as np\n",
        "import matplotlib.pyplot as plt\n",
        "from sklearn.linear_model import LinearRegression\n",
        "from sklearn import linear_model\n",
        "from sklearn.model_selection import train_test_split\n",
        "from sklearn.metrics import mean_squared_error, r2_score\n",
        "df = pd.read_csv('/content/House Pricing.csv')\n",
        "X = df[\"rm\"]\n",
        "y = df[\"medv\"]\n",
        "num=int(len(df)*0.8)\n",
        "train=df[:num]\n",
        "test=df[num:]\n",
        "X_train, X_test, y_train, y_test = train_test_split(X, y, test_size=0.25, random_state=20)\n",
        "X_train=np.array(train[[\"rm\"]])\n",
        "y_train=np.array(train[\"medv\"])\n",
        "regr=linear_model.LinearRegression()\n",
        "regr.fit(X_train,y_train)"
      ],
      "metadata": {
        "colab": {
          "base_uri": "https://localhost:8080/",
          "height": 75
        },
        "id": "41dT4IIBpFdy",
        "outputId": "192f30b9-d4d0-432e-8429-0690684b5e17"
      },
      "execution_count": 59,
      "outputs": [
        {
          "output_type": "execute_result",
          "data": {
            "text/plain": [
              "LinearRegression()"
            ],
            "text/html": [
              "<style>#sk-container-id-5 {color: black;background-color: white;}#sk-container-id-5 pre{padding: 0;}#sk-container-id-5 div.sk-toggleable {background-color: white;}#sk-container-id-5 label.sk-toggleable__label {cursor: pointer;display: block;width: 100%;margin-bottom: 0;padding: 0.3em;box-sizing: border-box;text-align: center;}#sk-container-id-5 label.sk-toggleable__label-arrow:before {content: \"▸\";float: left;margin-right: 0.25em;color: #696969;}#sk-container-id-5 label.sk-toggleable__label-arrow:hover:before {color: black;}#sk-container-id-5 div.sk-estimator:hover label.sk-toggleable__label-arrow:before {color: black;}#sk-container-id-5 div.sk-toggleable__content {max-height: 0;max-width: 0;overflow: hidden;text-align: left;background-color: #f0f8ff;}#sk-container-id-5 div.sk-toggleable__content pre {margin: 0.2em;color: black;border-radius: 0.25em;background-color: #f0f8ff;}#sk-container-id-5 input.sk-toggleable__control:checked~div.sk-toggleable__content {max-height: 200px;max-width: 100%;overflow: auto;}#sk-container-id-5 input.sk-toggleable__control:checked~label.sk-toggleable__label-arrow:before {content: \"▾\";}#sk-container-id-5 div.sk-estimator input.sk-toggleable__control:checked~label.sk-toggleable__label {background-color: #d4ebff;}#sk-container-id-5 div.sk-label input.sk-toggleable__control:checked~label.sk-toggleable__label {background-color: #d4ebff;}#sk-container-id-5 input.sk-hidden--visually {border: 0;clip: rect(1px 1px 1px 1px);clip: rect(1px, 1px, 1px, 1px);height: 1px;margin: -1px;overflow: hidden;padding: 0;position: absolute;width: 1px;}#sk-container-id-5 div.sk-estimator {font-family: monospace;background-color: #f0f8ff;border: 1px dotted black;border-radius: 0.25em;box-sizing: border-box;margin-bottom: 0.5em;}#sk-container-id-5 div.sk-estimator:hover {background-color: #d4ebff;}#sk-container-id-5 div.sk-parallel-item::after {content: \"\";width: 100%;border-bottom: 1px solid gray;flex-grow: 1;}#sk-container-id-5 div.sk-label:hover label.sk-toggleable__label {background-color: #d4ebff;}#sk-container-id-5 div.sk-serial::before {content: \"\";position: absolute;border-left: 1px solid gray;box-sizing: border-box;top: 0;bottom: 0;left: 50%;z-index: 0;}#sk-container-id-5 div.sk-serial {display: flex;flex-direction: column;align-items: center;background-color: white;padding-right: 0.2em;padding-left: 0.2em;position: relative;}#sk-container-id-5 div.sk-item {position: relative;z-index: 1;}#sk-container-id-5 div.sk-parallel {display: flex;align-items: stretch;justify-content: center;background-color: white;position: relative;}#sk-container-id-5 div.sk-item::before, #sk-container-id-5 div.sk-parallel-item::before {content: \"\";position: absolute;border-left: 1px solid gray;box-sizing: border-box;top: 0;bottom: 0;left: 50%;z-index: -1;}#sk-container-id-5 div.sk-parallel-item {display: flex;flex-direction: column;z-index: 1;position: relative;background-color: white;}#sk-container-id-5 div.sk-parallel-item:first-child::after {align-self: flex-end;width: 50%;}#sk-container-id-5 div.sk-parallel-item:last-child::after {align-self: flex-start;width: 50%;}#sk-container-id-5 div.sk-parallel-item:only-child::after {width: 0;}#sk-container-id-5 div.sk-dashed-wrapped {border: 1px dashed gray;margin: 0 0.4em 0.5em 0.4em;box-sizing: border-box;padding-bottom: 0.4em;background-color: white;}#sk-container-id-5 div.sk-label label {font-family: monospace;font-weight: bold;display: inline-block;line-height: 1.2em;}#sk-container-id-5 div.sk-label-container {text-align: center;}#sk-container-id-5 div.sk-container {/* jupyter's `normalize.less` sets `[hidden] { display: none; }` but bootstrap.min.css set `[hidden] { display: none !important; }` so we also need the `!important` here to be able to override the default hidden behavior on the sphinx rendered scikit-learn.org. See: https://github.com/scikit-learn/scikit-learn/issues/21755 */display: inline-block !important;position: relative;}#sk-container-id-5 div.sk-text-repr-fallback {display: none;}</style><div id=\"sk-container-id-5\" class=\"sk-top-container\"><div class=\"sk-text-repr-fallback\"><pre>LinearRegression()</pre><b>In a Jupyter environment, please rerun this cell to show the HTML representation or trust the notebook. <br />On GitHub, the HTML representation is unable to render, please try loading this page with nbviewer.org.</b></div><div class=\"sk-container\" hidden><div class=\"sk-item\"><div class=\"sk-estimator sk-toggleable\"><input class=\"sk-toggleable__control sk-hidden--visually\" id=\"sk-estimator-id-5\" type=\"checkbox\" checked><label for=\"sk-estimator-id-5\" class=\"sk-toggleable__label sk-toggleable__label-arrow\">LinearRegression</label><div class=\"sk-toggleable__content\"><pre>LinearRegression()</pre></div></div></div></div></div>"
            ]
          },
          "metadata": {},
          "execution_count": 59
        }
      ]
    },
    {
      "cell_type": "code",
      "source": [
        "y_pred = regr.predict(X_test.values.reshape(-1, 1))\n",
        "print(y_pred)"
      ],
      "metadata": {
        "colab": {
          "base_uri": "https://localhost:8080/"
        },
        "id": "AbSqzYbD0zA5",
        "outputId": "7d388c41-37d0-4366-aec0-693ffd4bb354"
      },
      "execution_count": 65,
      "outputs": [
        {
          "output_type": "stream",
          "name": "stdout",
          "text": [
            "[21.20552224 23.38040698 22.17949236 22.57664523 21.99982797 20.5436008\n",
            " 14.82270834 15.85341458 21.70669133 21.83907562 22.38752482 17.90537105\n",
            " 23.97613628 27.39921573 19.78711915 24.64751374 31.31400826 22.77522166\n",
            " 17.59332237 20.93129765 40.31613987 40.25940375 24.96901844 31.49367265\n",
            " 19.96678354 22.17949236 21.93363583 24.5813216  22.09438818 22.04710808\n",
            " 29.0823874  18.74695689 21.06368193 25.12977079 26.1888451  24.85554619\n",
            " 46.59493755 24.01396036 20.03297569 32.23124226  3.4187475  21.5081149\n",
            " 30.17928579 14.14187486 28.23134555 27.09662308 20.72326519 20.41121651\n",
            " 11.910254   28.42046596 36.96870858 33.07282809 19.64527884 34.7749118\n",
            " 24.59077762 25.87679642 19.04009353 19.16302179 23.03053422 16.97868104\n",
            " 28.1178733  24.10852057 21.81070756 20.39230447 17.26236165 21.30953847\n",
            " 24.85554619 33.4416129  23.39931902 25.61202784 31.94756164 21.15824214\n",
            " 23.60735147 21.4135547  20.34502437 24.70424986 26.63327807 29.50790833\n",
            " 25.20541896 14.99291671 13.32865708 21.93363583 26.13210897 10.87009173\n",
            " 30.25493396 22.472629   21.92417981 17.6973386  21.64049919 24.82717813\n",
            " 23.6640876  30.29275804 18.44436423 17.49876217 21.30953847 26.8791346\n",
            " 18.26469984 21.06368193 24.96901844 22.08493216 19.47507047 26.38742153\n",
            " 22.65229339 34.92620813 27.90038483 18.31197994 28.10841728 22.67120544\n",
            " 18.63348464 24.78935405 24.17471271 29.05401934 19.00226944 26.97369481\n",
            " 26.93587073 30.17928579 27.60724819 28.53393821 20.90292958 25.63093988\n",
            " 32.23124226 17.83917891 22.46317298 38.75589647 21.22443428 23.39931902\n",
            " 11.28615664]\n"
          ]
        }
      ]
    },
    {
      "cell_type": "code",
      "source": [
        "print(y_test) #actual values"
      ],
      "metadata": {
        "colab": {
          "base_uri": "https://localhost:8080/"
        },
        "id": "9O37E_KB116I",
        "outputId": "a7dabd8c-e5c7-4aff-e833-0bdb7e5091ad"
      },
      "execution_count": 61,
      "outputs": [
        {
          "output_type": "stream",
          "name": "stdout",
          "text": [
            "498    21.2\n",
            "94     20.6\n",
            "150    21.5\n",
            "221    21.7\n",
            "423    13.4\n",
            "       ... \n",
            "437     8.7\n",
            "195    50.0\n",
            "117    19.2\n",
            "447    12.6\n",
            "368    50.0\n",
            "Name: medv, Length: 127, dtype: float64\n"
          ]
        }
      ]
    },
    {
      "cell_type": "code",
      "source": [
        "coefficients=regr.coef_\n",
        "intercept=regr.intercept_\n",
        "print(\"Slope : \",coefficients)\n",
        "print(\"Intercept : \",intercept)"
      ],
      "metadata": {
        "colab": {
          "base_uri": "https://localhost:8080/"
        },
        "id": "K-suu4V3pFiO",
        "outputId": "7e9423ce-6d1d-4894-d60e-3ed6f625ecc9"
      },
      "execution_count": 66,
      "outputs": [
        {
          "output_type": "stream",
          "name": "stdout",
          "text": [
            "Slope :  [9.4560206]\n",
            "Intercept :  -35.710265735643475\n"
          ]
        }
      ]
    },
    {
      "cell_type": "code",
      "source": [
        "plt.scatter(train[\"rm\"],train[\"medv\"])\n",
        "plt.plot(X_train,coefficients[0]*X_train+intercept,color=\"black\")\n",
        "plt.xlabel(\"rm\")\n",
        "plt.ylabel(\"medv\")\n",
        "plt.show()"
      ],
      "metadata": {
        "colab": {
          "base_uri": "https://localhost:8080/",
          "height": 449
        },
        "id": "7HywyBYrrxqK",
        "outputId": "832546f3-f6e4-4b7e-f218-400df059b020"
      },
      "execution_count": 67,
      "outputs": [
        {
          "output_type": "display_data",
          "data": {
            "text/plain": [
              "<Figure size 640x480 with 1 Axes>"
            ],
            "image/png": "[encoded data removed]"
          },
          "metadata": {}
        }
      ]
    },
    {
      "cell_type": "code",
      "source": [
        "mse = mean_squared_error(y_test, y_pred)\n",
        "r2 = r2_score(y_test, y_pred)\n",
        "\n",
        "print(f'Mean Squared Error: {mse}')\n",
        "print(f'R-squared: {r2}')\n"
      ],
      "metadata": {
        "colab": {
          "base_uri": "https://localhost:8080/"
        },
        "id": "KBvBeVIqrkj6",
        "outputId": "3072e1af-17da-429b-d476-e5d2ac3106fe"
      },
      "execution_count": 68,
      "outputs": [
        {
          "output_type": "stream",
          "name": "stdout",
          "text": [
            "Mean Squared Error: 55.29127651840969\n",
            "R-squared: 0.31405082690565944\n"
          ]
        }
      ]
    }
  ]
}